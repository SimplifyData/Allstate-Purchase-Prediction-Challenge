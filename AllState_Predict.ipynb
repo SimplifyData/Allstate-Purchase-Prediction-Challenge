{
 "cells": [
  {
   "cell_type": "markdown",
   "metadata": {},
   "source": [
    "Kaggle Competition - Predict a purchased policy based on transaction history"
   ]
  },
  {
   "cell_type": "markdown",
   "metadata": {},
   "source": [
    "As a customer shops an insurance policy, he/she will receive a number of quotes with different coverage options before purchasing a plan. This is represented in this challenge as a series of rows that include a customer ID, information about the customer, information about the quoted policy, and the cost. Your task is to predict the purchased coverage options using a limited subset of the total interaction history. If the eventual purchase can be predicted sooner in the shopping window, the quoting process is shortened and the issuer is less likely to lose the customer's business.\n",
    "\n",
    "Using a customer’s shopping history, can you predict what policy they will end up choosing?"
   ]
  },
  {
   "cell_type": "markdown",
   "metadata": {},
   "source": [
    "Importing Libraries"
   ]
  },
  {
   "cell_type": "code",
   "execution_count": 1,
   "metadata": {
    "collapsed": false
   },
   "outputs": [
    {
     "name": "stdout",
     "output_type": "stream",
     "text": [
      "Populating the interactive namespace from numpy and matplotlib\n"
     ]
    }
   ],
   "source": [
    "import pandas as pd\n",
    "\n",
    "\n",
    "import matplotlib.pyplot as plt\n",
    "\n",
    "%pylab inline\n",
    "\n",
    "import numpy as np\n",
    "\n",
    "import sklearn\n",
    "\n",
    "import sqlite3"
   ]
  },
  {
   "cell_type": "markdown",
   "metadata": {},
   "source": [
    "Loading Data files"
   ]
  },
  {
   "cell_type": "code",
   "execution_count": 2,
   "metadata": {
    "collapsed": false
   },
   "outputs": [
    {
     "name": "stdout",
     "output_type": "stream",
     "text": [
      "done - csv file path store\n"
     ]
    }
   ],
   "source": [
    "train_data_csv = \"/home/azafar/Projects/Allstate-Purchase-Prediction-Challenge/Data/train.csv\"\n",
    "\n",
    "test_data_csv = \"/home/azafar/Projects/Allstate-Purchase-Prediction-Challenge/Data/test_v2.csv\"\n",
    "\n",
    "print \"done - csv file path store\""
   ]
  },
  {
   "cell_type": "code",
   "execution_count": 3,
   "metadata": {
    "collapsed": false
   },
   "outputs": [
    {
     "name": "stdout",
     "output_type": "stream",
     "text": [
      "done - csv read function\n"
     ]
    }
   ],
   "source": [
    "def read_csv(file):\n",
    "    return pd.read_csv(file)\n",
    "\n",
    "print \"done - csv read function\""
   ]
  },
  {
   "cell_type": "code",
   "execution_count": 62,
   "metadata": {
    "collapsed": false
   },
   "outputs": [
    {
     "name": "stdout",
     "output_type": "stream",
     "text": [
      "done - read csv train and test data\n"
     ]
    }
   ],
   "source": [
    "train_data = read_csv(train_data_csv)\n",
    "\n",
    "test_data = read_csv(test_data_csv)\n",
    "\n",
    "print \"done - read csv train and test data\""
   ]
  },
  {
   "cell_type": "markdown",
   "metadata": {},
   "source": [
    "Train Data Head"
   ]
  },
  {
   "cell_type": "code",
   "execution_count": 5,
   "metadata": {
    "collapsed": false
   },
   "outputs": [
    {
     "name": "stdout",
     "output_type": "stream",
     "text": [
      "   customer_ID  shopping_pt  record_type  day   time state  location  \\\n0     10000000            1            0    0  08:35    IN     10001   \n1     10000000            2            0    0  08:38    IN     10001   \n2     10000000            3            0    0  08:38    IN     10001   \n3     10000000            4            0    0  08:39    IN     10001   \n4     10000000            5            0    0  11:55    IN     10001   \n\n   group_size  homeowner  car_age  ...  C_previous  duration_previous  A  B  \\\n0           2          0        2  ...         1.0                2.0  1  0   \n1           2          0        2  ...         1.0                2.0  1  0   \n2           2          0        2  ...         1.0                2.0  1  0   \n3           2          0        2  ...         1.0                2.0  1  0   \n4           2          0        2  ...         1.0                2.0  1  0   \n\n   C  D  E  F  G  cost  \n0  2  2  1  2  2   633  \n1  2  2  1  2  1   630  \n2  2  2  1  2  1   630  \n3  2  2  1  2  1   630  \n4  2  2  1  2  1   630  \n\n[5 rows x 25 columns]\n"
     ]
    }
   ],
   "source": [
    "print train_data.head()"
   ]
  },
  {
   "cell_type": "markdown",
   "metadata": {},
   "source": [
    "Training data - dimensions"
   ]
  },
  {
   "cell_type": "code",
   "execution_count": 6,
   "metadata": {
    "collapsed": false
   },
   "outputs": [
    {
     "name": "stdout",
     "output_type": "stream",
     "text": [
      "\n checking dimensions\n665249\n2\n"
     ]
    }
   ],
   "source": [
    "print \"\\n checking dimensions\"\n",
    "\n",
    "print len(train_data)\n",
    "\n",
    "print train_data.ndim"
   ]
  },
  {
   "cell_type": "markdown",
   "metadata": {},
   "source": [
    "Training data - description"
   ]
  },
  {
   "cell_type": "code",
   "execution_count": 7,
   "metadata": {
    "collapsed": false
   },
   "outputs": [
    {
     "name": "stdout",
     "output_type": "stream",
     "text": [
      "Training data - description\n"
     ]
    },
    {
     "name": "stdout",
     "output_type": "stream",
     "text": [
      "        customer_ID    shopping_pt    record_type            day  \\\ncount  6.652490e+05  665249.000000  665249.000000  665249.000000   \nmean   1.007655e+07       4.219966       0.145824       1.969429   \nstd    4.404978e+04       2.394369       0.352930       1.453470   \nmin    1.000000e+07       1.000000       0.000000       0.000000   \n25%    1.003852e+07       2.000000       0.000000       1.000000   \n50%    1.007640e+07       4.000000       0.000000       2.000000   \n75%    1.011470e+07       6.000000       0.000000       3.000000   \nmax    1.015272e+07      13.000000       1.000000       6.000000   \n\n            location     group_size      homeowner        car_age  \\\ncount  665249.000000  665249.000000  665249.000000  665249.000000   \nmean    12271.543022       1.234784       0.536229       8.139437   \nstd      1564.789415       0.461036       0.498686       5.764598   \nmin     10001.000000       1.000000       0.000000       0.000000   \n25%     10936.000000       1.000000       0.000000       3.000000   \n50%     12027.000000       1.000000       1.000000       7.000000   \n75%     13426.000000       1.000000       1.000000      12.000000   \nmax     16580.000000       4.000000       1.000000      85.000000   \n\n         risk_factor     age_oldest      ...           C_previous  \\\ncount  424831.000000  665249.000000      ...        646538.000000   \nmean        2.563996      44.992403      ...             2.444718   \nstd         1.111584      17.403440      ...             1.034596   \nmin         1.000000      18.000000      ...             1.000000   \n25%         2.000000      28.000000      ...             1.000000   \n50%         3.000000      44.000000      ...             3.000000   \n75%         4.000000      60.000000      ...             3.000000   \nmax         4.000000      75.000000      ...             4.000000   \n\n       duration_previous              A              B              C  \\\ncount      646538.000000  665249.000000  665249.000000  665249.000000   \nmean            6.003774       0.927546       0.454236       2.275265   \nstd             4.680793       0.595221       0.497902       0.990798   \nmin             0.000000       0.000000       0.000000       1.000000   \n25%             2.000000       1.000000       0.000000       1.000000   \n50%             5.000000       1.000000       0.000000       2.000000   \n75%             9.000000       1.000000       1.000000       3.000000   \nmax            15.000000       2.000000       1.000000       4.000000   \n\n                   D              E              F              G  \\\ncount  665249.000000  665249.000000  665249.000000  665249.000000   \nmean        2.454299       0.445193       1.162768       2.275120   \nstd         0.753953       0.496987       0.943594       0.909567   \nmin         1.000000       0.000000       0.000000       1.000000   \n25%         2.000000       0.000000       0.000000       2.000000   \n50%         3.000000       0.000000       1.000000       2.000000   \n75%         3.000000       1.000000       2.000000       3.000000   \nmax         3.000000       1.000000       3.000000       4.000000   \n\n                cost  \ncount  665249.000000  \nmean      635.785008  \nstd        45.993758  \nmin       260.000000  \n25%       605.000000  \n50%       635.000000  \n75%       665.000000  \nmax       922.000000  \n\n[8 rows x 22 columns]\n"
     ]
    }
   ],
   "source": [
    "print \"Training data - description\"\n",
    "\n",
    "print train_data.ix[:,:].describe()"
   ]
  },
  {
   "cell_type": "markdown",
   "metadata": {},
   "source": [
    "Training data missing values"
   ]
  },
  {
   "cell_type": "code",
   "execution_count": 8,
   "metadata": {
    "collapsed": false
   },
   "outputs": [
    {
     "name": "stdout",
     "output_type": "stream",
     "text": [
      "customer_ID          0.000000\nshopping_pt          0.000000\nrecord_type          0.000000\nday                  0.000000\ntime                 0.000000\nstate                0.000000\nlocation             0.000000\ngroup_size           0.000000\nhomeowner            0.000000\ncar_age              0.000000\ncar_value            0.002301\nrisk_factor          0.361396\nage_oldest           0.000000\nage_youngest         0.000000\nmarried_couple       0.000000\nC_previous           0.028126\nduration_previous    0.028126\nA                    0.000000\nB                    0.000000\nC                    0.000000\nD                    0.000000\nE                    0.000000\nF                    0.000000\nG                    0.000000\ncost                 0.000000\ndtype: float64\n"
     ]
    }
   ],
   "source": [
    "print train_data.isnull().mean()"
   ]
  },
  {
   "cell_type": "markdown",
   "metadata": {},
   "source": [
    "Checking describe , mean and mode of null categories in training data"
   ]
  },
  {
   "cell_type": "code",
   "execution_count": 9,
   "metadata": {
    "collapsed": false
   },
   "outputs": [
    {
     "name": "stdout",
     "output_type": "stream",
     "text": [
      "\n Training Data  car value Description\ncount     663718\nunique         9\ntop            e\nfreq      219251\nName: car_value, dtype: object\n\n Training Data car cavlue Set\n['g' 'e' 'c' 'd' 'f' nan 'h' 'i' 'b' 'a']\n\n Training Data car value Mode\ne\n"
     ]
    }
   ],
   "source": [
    "print \"\\n Training Data  car value Description\"\n",
    "\n",
    "print train_data[\"car_value\"].describe()\n",
    "\n",
    "print \"\\n Training Data car cavlue Set\"\n",
    "\n",
    "print train_data[\"car_value\"].unique()\n",
    "\n",
    "print \"\\n Training Data car value Mode\"\n",
    "\n",
    "print train_data[\"car_value\"].mode()[0]"
   ]
  },
  {
   "cell_type": "markdown",
   "metadata": {},
   "source": [
    "Replacing null values of Training Data - \"car_value\" with its mode"
   ]
  },
  {
   "cell_type": "code",
   "execution_count": 10,
   "metadata": {
    "collapsed": false
   },
   "outputs": [
    {
     "name": "stdout",
     "output_type": "stream",
     "text": [
      "done - training data car_value null imputed with its mode = e\n"
     ]
    }
   ],
   "source": [
    "train_data.loc[train_data[\"car_value\"].isnull(),\"car_value\"]= train_data[\"car_value\"].mode()[0]\n",
    "\n",
    "print \"done - training data car_value null imputed with its mode = e\""
   ]
  },
  {
   "cell_type": "code",
   "execution_count": 11,
   "metadata": {
    "collapsed": false
   },
   "outputs": [
    {
     "name": "stdout",
     "output_type": "stream",
     "text": [
      "0.0\ndone - Mean of Null values in car_value after imputing\n"
     ]
    }
   ],
   "source": [
    "print train_data[\"car_value\"].isnull().mean()\n",
    "\n",
    "print \"done - Mean of Null values in car_value after imputing\""
   ]
  },
  {
   "cell_type": "markdown",
   "metadata": {},
   "source": [
    "Risk_factor description, mean , median, mode"
   ]
  },
  {
   "cell_type": "code",
   "execution_count": 12,
   "metadata": {
    "collapsed": false
   },
   "outputs": [
    {
     "name": "stdout",
     "output_type": "stream",
     "text": [
      "\n risk factor description\ncount    424831.000000\nmean          2.563996\nstd           1.111584\nmin           1.000000\n25%           2.000000\n50%           3.000000\n75%           4.000000\nmax           4.000000\nName: risk_factor, dtype: float64\n\n risk factor mean\n2.56399603607\n\n risk factor mode\n0    3.0\ndtype: float64\n\n  risk factor set\n[  3.   4.  nan   2.   1.]\n"
     ]
    }
   ],
   "source": [
    "print \"\\n risk factor description\"\n",
    "\n",
    "print train_data[\"risk_factor\"].describe()\n",
    "\n",
    "print \"\\n risk factor mean\"\n",
    "\n",
    "print train_data[\"risk_factor\"].mean()\n",
    "\n",
    "print \"\\n risk factor mode\"\n",
    "\n",
    "print train_data[\"risk_factor\"].mode()\n",
    "\n",
    "print \"\\n  risk factor set\"\n",
    "\n",
    "print train_data[\"risk_factor\"].unique()"
   ]
  },
  {
   "cell_type": "markdown",
   "metadata": {},
   "source": [
    "Risk Factor has a mean of 2.6 and a mode of 3 , imputing nan with the mode 3"
   ]
  },
  {
   "cell_type": "markdown",
   "metadata": {},
   "source": [
    "Imputing Null Values in risk factor with mean"
   ]
  },
  {
   "cell_type": "code",
   "execution_count": 13,
   "metadata": {
    "collapsed": false
   },
   "outputs": [
    {
     "name": "stdout",
     "output_type": "stream",
     "text": [
      "done - Null values in risk factor replaced with its mode value\n"
     ]
    }
   ],
   "source": [
    "train_data.loc[train_data[\"risk_factor\"].isnull(),\"risk_factor\"] = train_data[\"risk_factor\"].mode()[0]\n",
    "\n",
    "print \"done - Null values in risk factor replaced with its mode value\""
   ]
  },
  {
   "cell_type": "markdown",
   "metadata": {},
   "source": [
    "Risk Factor Null imputed with mean value"
   ]
  },
  {
   "cell_type": "code",
   "execution_count": 14,
   "metadata": {
    "collapsed": false
   },
   "outputs": [
    {
     "name": "stdout",
     "output_type": "stream",
     "text": [
      "0.0\ndone - Mean of Null values left for risk factor\n"
     ]
    }
   ],
   "source": [
    "print train_data[\"risk_factor\"].isnull().mean()\n",
    "\n",
    "print \"done - Mean of Null values left for risk factor\""
   ]
  },
  {
   "cell_type": "markdown",
   "metadata": {},
   "source": [
    "C Previous description, mean , median, mode"
   ]
  },
  {
   "cell_type": "code",
   "execution_count": 15,
   "metadata": {
    "collapsed": false
   },
   "outputs": [
    {
     "name": "stdout",
     "output_type": "stream",
     "text": [
      "\n C previous description\ncount    646538.000000\nmean          2.444718\nstd           1.034596\nmin           1.000000\n25%           1.000000\n50%           3.000000\n75%           3.000000\nmax           4.000000\nName: C_previous, dtype: float64\n\n C_previous mode\n0    3.0\ndtype: float64\n C previous Set\n[  1.   3.   2.   4.  nan]\n"
     ]
    }
   ],
   "source": [
    "print \"\\n C previous description\"\n",
    "\n",
    "print train_data[\"C_previous\"].describe()\n",
    "\n",
    "#print \"\\n C_previous mean\" - Giving an error\n",
    "\n",
    "#print train_data[\"C_previous].mean()\n",
    "\n",
    "print \"\\n C_previous mode\"\n",
    "\n",
    "print train_data[\"C_previous\"].mode()\n",
    "\n",
    "print \" C previous Set\"\n",
    "\n",
    "print train_data[\"C_previous\"].unique()"
   ]
  },
  {
   "cell_type": "markdown",
   "metadata": {},
   "source": [
    "C Previous imputing Null Values"
   ]
  },
  {
   "cell_type": "code",
   "execution_count": 16,
   "metadata": {
    "collapsed": false
   },
   "outputs": [
    {
     "name": "stdout",
     "output_type": "stream",
     "text": [
      "done - C previous category null values replaced with its mode\n"
     ]
    }
   ],
   "source": [
    "train_data.loc[train_data[\"C_previous\"].isnull(),\"C_previous\"] = train_data[\"C_previous\"].mode()[0]\n",
    "\n",
    "print \"done - C previous category null values replaced with its mode\""
   ]
  },
  {
   "cell_type": "code",
   "execution_count": 17,
   "metadata": {
    "collapsed": false
   },
   "outputs": [
    {
     "name": "stdout",
     "output_type": "stream",
     "text": [
      "0.0\ndone - C Previous mean of null values now\n"
     ]
    }
   ],
   "source": [
    "print train_data[\"C_previous\"].isnull().mean()\n",
    "\n",
    "print \"done - C Previous mean of null values now\""
   ]
  },
  {
   "cell_type": "markdown",
   "metadata": {},
   "source": [
    "mean of c Previous - Worked this time"
   ]
  },
  {
   "cell_type": "code",
   "execution_count": 18,
   "metadata": {
    "collapsed": false
   },
   "outputs": [
    {
     "name": "stdout",
     "output_type": "stream",
     "text": [
      " C_previous mean value\n2.4603359043\n"
     ]
    }
   ],
   "source": [
    "print \" C_previous mean value\"\n",
    "print train_data[\"C_previous\"].mean()"
   ]
  },
  {
   "cell_type": "markdown",
   "metadata": {},
   "source": [
    "Duration Previous description and metrics"
   ]
  },
  {
   "cell_type": "code",
   "execution_count": 19,
   "metadata": {
    "collapsed": false
   },
   "outputs": [
    {
     "name": "stdout",
     "output_type": "stream",
     "text": [
      "\n C duration_previous description\ncount    646538.000000\nmean          6.003774\nstd           4.680793\nmin           0.000000\n25%           2.000000\n50%           5.000000\n75%           9.000000\nmax          15.000000\nName: duration_previous, dtype: float64\n\n duration previous mean\n6.00377394677\n\n duration_previous mode\n0    1.0\ndtype: float64\n duration_previous Set\n[  2.  13.   4.   3.   9.   0.   1.   8.  14.  nan   5.  15.   6.   7.  11.\n  10.  12.]\n"
     ]
    }
   ],
   "source": [
    "print \"\\n C duration_previous description\"\n",
    "\n",
    "print train_data[\"duration_previous\"].describe()\n",
    "\n",
    "print \"\\n duration previous mean\"\n",
    "\n",
    "print train_data[\"duration_previous\"].mean()\n",
    "\n",
    "print \"\\n duration_previous mode\"\n",
    "\n",
    "print train_data[\"duration_previous\"].mode()\n",
    "\n",
    "print \" duration_previous Set\"\n",
    "\n",
    "print train_data[\"duration_previous\"].unique()"
   ]
  },
  {
   "cell_type": "markdown",
   "metadata": {},
   "source": [
    "Imputing the Null Values for duration_previous"
   ]
  },
  {
   "cell_type": "code",
   "execution_count": 20,
   "metadata": {
    "collapsed": false
   },
   "outputs": [
    {
     "name": "stdout",
     "output_type": "stream",
     "text": [
      "done - duration_previous insurance company null values replaced with its mean\n"
     ]
    }
   ],
   "source": [
    "train_data.loc[train_data[\"duration_previous\"].isnull(),\"duration_previous\"] = train_data[\"duration_previous\"].mean()\n",
    "\n",
    "print \"done - duration_previous insurance company null values replaced with its mean\""
   ]
  },
  {
   "cell_type": "code",
   "execution_count": 21,
   "metadata": {
    "collapsed": false
   },
   "outputs": [
    {
     "name": "stdout",
     "output_type": "stream",
     "text": [
      "0.0\nduration_previous - mean of null values\n"
     ]
    }
   ],
   "source": [
    "print train_data[\"duration_previous\"].isnull().mean()\n",
    "\n",
    "print \"duration_previous - mean of null values\""
   ]
  },
  {
   "cell_type": "markdown",
   "metadata": {},
   "source": [
    "Checking all the categories again for Null Values"
   ]
  },
  {
   "cell_type": "code",
   "execution_count": 22,
   "metadata": {
    "collapsed": false
   },
   "outputs": [
    {
     "name": "stdout",
     "output_type": "stream",
     "text": [
      "All Columns - mean of null values \n\ncustomer_ID          0.0\nshopping_pt          0.0\nrecord_type          0.0\nday                  0.0\ntime                 0.0\nstate                0.0\nlocation             0.0\ngroup_size           0.0\nhomeowner            0.0\ncar_age              0.0\ncar_value            0.0\nrisk_factor          0.0\nage_oldest           0.0\nage_youngest         0.0\nmarried_couple       0.0\nC_previous           0.0\nduration_previous    0.0\nA                    0.0\nB                    0.0\nC                    0.0\nD                    0.0\nE                    0.0\nF                    0.0\nG                    0.0\ncost                 0.0\ndtype: float64\n"
     ]
    }
   ],
   "source": [
    "print \"All Columns - mean of null values \\n\"\n",
    "print train_data.isnull().mean()"
   ]
  },
  {
   "cell_type": "markdown",
   "metadata": {},
   "source": [
    "Explortary Data Analysis"
   ]
  },
  {
   "cell_type": "code",
   "execution_count": 23,
   "metadata": {
    "collapsed": false
   },
   "outputs": [
    {
     "name": "stdout",
     "output_type": "stream",
     "text": [
      "Populating the interactive namespace from numpy and matplotlib\n"
     ]
    }
   ],
   "source": [
    "%pylab inline"
   ]
  },
  {
   "cell_type": "markdown",
   "metadata": {},
   "source": [
    "Histogram of Cost of Insurance"
   ]
  },
  {
   "cell_type": "code",
   "execution_count": 24,
   "metadata": {
    "collapsed": false
   },
   "outputs": [
    {
     "data": {
      "text/plain": [
       "<matplotlib.axes._subplots.AxesSubplot at 0x7f680d917750>"
      ]
     },
     "execution_count": 24,
     "metadata": {},
     "output_type": "execute_result"
    },
    {
     "data": {
      "image/png": "[encoded data removed]",
      "text/plain": [
       "<matplotlib.figure.Figure at 0x7f68483a91d0>"
      ]
     },
     "metadata": {},
     "output_type": "display_data"
    }
   ],
   "source": [
    "train_data[[\"cost\"]].plot(kind = \"hist\")"
   ]
  },
  {
   "cell_type": "markdown",
   "metadata": {},
   "source": [
    "Insurance Cost VS Car Age"
   ]
  },
  {
   "cell_type": "code",
   "execution_count": 25,
   "metadata": {
    "collapsed": false
   },
   "outputs": [
    {
     "name": "stdout",
     "output_type": "stream",
     "text": [
      "\n Insurance Cost Set\n[633 630 638 634 755 730 731 618 616 607 605 602 629 620 627 626 604 585\n 603 614 590 584 591 589 597 681 685 705 659 615 622 648 601 600 556 572\n 578 575 676 598 689 609 696 692 703 657 654 665 594 610 606 550 551 583\n 613 608 612 568 574 577 765 642 652 694 671 651 641 645 643 649 646 702\n 563 566 693 701 596 656 559 562 670 625 599 617 623 655 635 621 713 723\n 719 721 582 658 586 639 637 650 706 729 735 666 611 580 593 587 592 588\n 624 662 704 691 767 699 667 542 631 734 728 725 644 836 653 525 545 549\n 632 733 683 738 557 640 687 674 690 684 682 761 530 688 558 661 564 571\n 660 686 680 535 536 531 538 647 569 567 573 668 628 754 737 663 708 636\n 619 581 695 726 714 707 678 720 718 712 766 760 770 740 727 669 709 757\n 672 677 747 743 745 742 673 758 769 768 717 722 555 700 579 716 710 697\n 698 675 595 565 570 744 748 576 724 664 679 798 753 553 732 541 533 539\n 544 505 506 547 711 554 528 548 560 518 524 546 715 779 756 736 529 784\n 792 785 825 521 789 561 540 543 752 788 739 741 746 552 512 510 527 763\n 749 776 764 774 517 523 519 534 537 516 526 809 515 532 750 495 508 513\n 801 787 504 839 815 507 751 777 522 824 773 771 782 786 860 520 783 509\n 502 759 762 780 490 483 497 841 842 821 772 805 817 859 794 793 849 474\n 503 482 484 791 796 456 493 511 476 799 800 778 795 499 498 797 514 781\n 808 812 298 311 467 790 486 496 834 837 828 500 775 475 448 455 324 323\n 327 434 447 492 833 807 494 895 477 378 397 411 810 882 840 831 488 413\n 412 481 391 379 393 820 491 369 818 846 826 501 457 838 822 911 922 829\n 428 404 357 854 802 466 804 473 816 835 872 855 844 806 470 811 485 480\n 489 304 314 317 295 873 814 819 813 863 845 472 425 433 313 296 321 465\n 471 853 823 407 408 469 478 827 850 862 803 891 289 293 302 297 487 326\n 329 336 479 409 843 830 865 367 288 917 417 459 419 429 307 322 848 349\n 360 368 832 468 449 372 383 385 389 291 299 301 900 851 402 260 263 847\n 375 370 361 352 406 864 888 912 272 287 290 858 418 852 356 358 280 274\n 303 415 398 464 869 384 421 424 400 436 441 426 430 346 881 380 390 285\n 294 454 376 857 450 338 344 350 387 353 332 325 438 328 868 866 264 362\n 345 437 308 341 354 363 431 427 416]\n\n Car Age Set\n[ 2 10 11  3  5  6  7 15 17  1 12  8 26  4 14  9 13 20 19 18 22 16  0 28 24\n 21 42 23 31 27 45 47 25 37 38 33 41 30 29 59 58 32 43 34 36 46 57 53 40 39\n 50 35 44 61 74 48 54 51 49 64 75 62 55 85 52 60 65]\n\n Insurance cost and Car Age compaired against Car Age\n               cost\ncar_age            \n0        652.914901\n1        653.294976\n2        645.976939\n3        649.812681\n4        648.646776\n"
     ]
    }
   ],
   "source": [
    "print \"\\n Insurance Cost Set\"\n",
    "\n",
    "print train_data[\"cost\"].unique()\n",
    "\n",
    "print \"\\n Car Age Set\"\n",
    "\n",
    "print train_data[\"car_age\"].unique()\n",
    "\n",
    "print \"\\n Insurance cost and Car Age compaired against Car Age\"\n",
    "\n",
    "cost_age_df =  train_data[[\"cost\", \"car_age\"]].groupby(\"car_age\").mean()\n",
    "\n",
    "print cost_age_df.head()"
   ]
  },
  {
   "cell_type": "markdown",
   "metadata": {},
   "source": [
    "Insurance Cost VS Car Age Plot"
   ]
  },
  {
   "cell_type": "code",
   "execution_count": 26,
   "metadata": {
    "collapsed": false
   },
   "outputs": [
    {
     "data": {
      "text/plain": [
       "<matplotlib.text.Text at 0x7f6803ff3f10>"
      ]
     },
     "execution_count": 26,
     "metadata": {},
     "output_type": "execute_result"
    },
    {
     "data": {
      "image/png": "[encoded data removed]",
      "text/plain": [
       "<matplotlib.figure.Figure at 0x7f68483a90d0>"
      ]
     },
     "metadata": {},
     "output_type": "display_data"
    }
   ],
   "source": [
    "%matplotlib inline\n",
    "\n",
    "pylab.plot(cost_age_df)\n",
    "\n",
    "pylab.xlabel(\"Car Age\")\n",
    "\n",
    "pylab.ylabel(\"Cost\")\n",
    "\n",
    "pylab.title(\"Cost Vs Car Age\")"
   ]
  },
  {
   "cell_type": "markdown",
   "metadata": {},
   "source": [
    "Cost correlations"
   ]
  },
  {
   "cell_type": "code",
   "execution_count": 27,
   "metadata": {
    "collapsed": false
   },
   "outputs": [
    {
     "name": "stdout",
     "output_type": "stream",
     "text": [
      "customer_ID         -0.002250\nshopping_pt          0.043419\nrecord_type         -0.011826\nday                  0.010793\nlocation             0.002413\ngroup_size          -0.024009\nhomeowner           -0.213846\ncar_age             -0.281002\nrisk_factor          0.118576\nage_oldest          -0.210225\nage_youngest        -0.238497\nmarried_couple      -0.075193\nC_previous          -0.077188\nduration_previous   -0.161597\nA                    0.325922\nB                    0.118573\nC                   -0.033931\nD                    0.002963\nE                    0.259183\nF                    0.141707\nG                   -0.011274\ncost                 1.000000\nName: cost, dtype: float64\n"
     ]
    }
   ],
   "source": [
    "print train_data.corr()[\"cost\"]"
   ]
  },
  {
   "cell_type": "markdown",
   "metadata": {},
   "source": [
    "Cost Correlation - Frequency Distribution of all categories"
   ]
  },
  {
   "cell_type": "code",
   "execution_count": 28,
   "metadata": {
    "collapsed": false
   },
   "outputs": [
    {
     "data": {
      "text/plain": [
       "<matplotlib.axes._subplots.AxesSubplot at 0x7f680408cd10>"
      ]
     },
     "execution_count": 28,
     "metadata": {},
     "output_type": "execute_result"
    },
    {
     "data": {
      "image/png": "[encoded data removed]",
      "text/plain": [
       "<matplotlib.figure.Figure at 0x7f6803f88450>"
      ]
     },
     "metadata": {},
     "output_type": "display_data"
    }
   ],
   "source": [
    "train_data.corr()[\"cost\"].plot.bar()"
   ]
  },
  {
   "cell_type": "markdown",
   "metadata": {},
   "source": [
    "Cost VS Risk Factor"
   ]
  },
  {
   "cell_type": "code",
   "execution_count": 29,
   "metadata": {
    "collapsed": false
   },
   "outputs": [
    {
     "name": "stdout",
     "output_type": "stream",
     "text": [
      "Insurance Cost vs Risk Factor\n"
     ]
    },
    {
     "data": {
      "text/plain": [
       "<matplotlib.text.Text at 0x7f6803d55390>"
      ]
     },
     "execution_count": 29,
     "metadata": {},
     "output_type": "execute_result"
    },
    {
     "data": {
      "image/png": "[encoded data removed]",
      "text/plain": [
       "<matplotlib.figure.Figure at 0x7f6803f90c10>"
      ]
     },
     "metadata": {},
     "output_type": "display_data"
    }
   ],
   "source": [
    "print \"Insurance Cost vs Risk Factor\" \n",
    "\n",
    "pylab.plot(train_data[[\"cost\",\"risk_factor\"]].groupby(\"risk_factor\").mean())\n",
    "\n",
    "pylab.xlabel(\"Risk Factor\")\n",
    "\n",
    "pylab.ylabel(\"Cost\")\n",
    "\n",
    "pylab.title(\" Cost VS Risk Factor\")"
   ]
  },
  {
   "cell_type": "markdown",
   "metadata": {},
   "source": [
    "1) Cost goes down as car gets old\n",
    "\n",
    "2) Cost goes up with higher risk factor\n",
    "\n",
    "3) Option A and E increase with cost and risk factor , lets find out."
   ]
  },
  {
   "cell_type": "markdown",
   "metadata": {},
   "source": [
    "Option A Correlation"
   ]
  },
  {
   "cell_type": "code",
   "execution_count": 30,
   "metadata": {
    "collapsed": false
   },
   "outputs": [
    {
     "name": "stdout",
     "output_type": "stream",
     "text": [
      "customer_ID         -0.002306\nshopping_pt          0.052803\nrecord_type          0.012162\nday                 -0.001005\nlocation            -0.003494\ngroup_size           0.017806\nhomeowner            0.048471\ncar_age             -0.436740\nrisk_factor         -0.056620\nage_oldest           0.003914\nage_youngest         0.005199\nmarried_couple       0.023021\nC_previous           0.115207\nduration_previous    0.029891\nA                    1.000000\nB                    0.158040\nC                    0.190519\nD                    0.189351\nE                    0.324618\nF                    0.531186\nG                    0.045335\ncost                 0.325922\nName: A, dtype: float64\n"
     ]
    }
   ],
   "source": [
    "print train_data.corr()[\"A\"]"
   ]
  },
  {
   "cell_type": "code",
   "execution_count": 31,
   "metadata": {
    "collapsed": false
   },
   "outputs": [
    {
     "name": "stdout",
     "output_type": "stream",
     "text": [
      "Option A Correlation - Frequency Distribution\n"
     ]
    },
    {
     "data": {
      "image/png": "[encoded data removed]",
      "text/plain": [
       "<matplotlib.figure.Figure at 0x7f6803e484d0>"
      ]
     },
     "metadata": {},
     "output_type": "display_data"
    }
   ],
   "source": [
    "train_data.corr()[\"A\"].plot.bar()\n",
    "\n",
    "print \"Option A Correlation - Frequency Distribution\""
   ]
  },
  {
   "cell_type": "markdown",
   "metadata": {},
   "source": [
    "Coverage A has a strong negative correlation with car age , and small negative correlatoin with risk factor, its looks like from the data it has a positive relation with home owners and people who stay longer with thier previous instance"
   ]
  },
  {
   "cell_type": "code",
   "execution_count": 32,
   "metadata": {
    "collapsed": false
   },
   "outputs": [
    {
     "data": {
      "text/plain": [
       "<matplotlib.text.Text at 0x7f6803c41f90>"
      ]
     },
     "execution_count": 32,
     "metadata": {},
     "output_type": "execute_result"
    },
    {
     "data": {
      "image/png": "[encoded data removed]",
      "text/plain": [
       "<matplotlib.figure.Figure at 0x7f6803d4fcd0>"
      ]
     },
     "metadata": {},
     "output_type": "display_data"
    }
   ],
   "source": [
    "pylab.plot(train_data[[\"A\",\"car_age\"]].groupby(\"car_age\").mean())\n",
    "\n",
    "pylab.xlabel(\"Car Age\")\n",
    "\n",
    "pylab.ylabel(\"Coverage A\")\n",
    "\n",
    "pylab.title(\" Coverage A VS. Car Age\")"
   ]
  },
  {
   "cell_type": "markdown",
   "metadata": {},
   "source": [
    "Coverage A is favored for new cars"
   ]
  },
  {
   "cell_type": "markdown",
   "metadata": {},
   "source": [
    "C Previous VS. Coverage A - deffered for later"
   ]
  },
  {
   "cell_type": "code",
   "execution_count": 33,
   "metadata": {
    "collapsed": true
   },
   "outputs": [],
   "source": [
    "#pylab.plot(train_data[[\"A\",\"C_previous\"]].groupby(\"C_previous\"))"
   ]
  },
  {
   "cell_type": "code",
   "execution_count": 34,
   "metadata": {
    "collapsed": true
   },
   "outputs": [],
   "source": [
    "#print train_data[[\"A\",\"C_previous\"]].groupby(\"C_previous\")"
   ]
  },
  {
   "cell_type": "code",
   "execution_count": 35,
   "metadata": {
    "collapsed": false
   },
   "outputs": [
    {
     "name": "stdout",
     "output_type": "stream",
     "text": [
      "[ 1.  3.  2.  4.]\n"
     ]
    }
   ],
   "source": [
    "print train_data[\"C_previous\"].unique()"
   ]
  },
  {
   "cell_type": "markdown",
   "metadata": {},
   "source": [
    "Risk Factor VS Car Age"
   ]
  },
  {
   "cell_type": "code",
   "execution_count": 36,
   "metadata": {
    "collapsed": false
   },
   "outputs": [
    {
     "data": {
      "text/plain": [
       "<matplotlib.text.Text at 0x7f6803db5290>"
      ]
     },
     "execution_count": 36,
     "metadata": {},
     "output_type": "execute_result"
    },
    {
     "data": {
      "image/png": "[encoded data removed]",
      "text/plain": [
       "<matplotlib.figure.Figure at 0x7f6803cb1d50>"
      ]
     },
     "metadata": {},
     "output_type": "display_data"
    }
   ],
   "source": [
    "pylab.plot(train_data[[\"risk_factor\",\"car_age\"]].groupby(\"car_age\").mean())\n",
    "\n",
    "pylab.xlabel(\"Car Age\")\n",
    "\n",
    "pylab.ylabel(\"Risk Factor\")\n",
    "\n",
    "pylab.title(\" Risk Factor VS. Car Age\")"
   ]
  },
  {
   "cell_type": "markdown",
   "metadata": {},
   "source": [
    "Creating a SQLite DB to split and store files"
   ]
  },
  {
   "cell_type": "markdown",
   "metadata": {},
   "source": [
    "Developing Correlations between different combinations of Categories VS. buyer history"
   ]
  },
  {
   "cell_type": "code",
   "execution_count": 37,
   "metadata": {
    "collapsed": true
   },
   "outputs": [],
   "source": [
    "#conn = sqlite3.connect(\"AllState_Kaggle.sqlite\")"
   ]
  },
  {
   "cell_type": "code",
   "execution_count": 38,
   "metadata": {
    "collapsed": true
   },
   "outputs": [],
   "source": [
    "#cur = conn.cursor()"
   ]
  },
  {
   "cell_type": "markdown",
   "metadata": {},
   "source": [
    "Dropping  and Creating Table Customer_ID"
   ]
  },
  {
   "cell_type": "code",
   "execution_count": 39,
   "metadata": {
    "collapsed": false
   },
   "outputs": [
    {
     "name": "stdout",
     "output_type": "stream",
     "text": [
      "<sqlite3.Connection object at 0x7f6803d93200>\n"
     ]
    },
    {
     "name": "stdout",
     "output_type": "stream",
     "text": [
      "table created\n[(u'sqlite_sequence',), (u'Customer_ID',), (u'Cust_Hist_Data',)]\n"
     ]
    }
   ],
   "source": [
    "def create_insurance_db():\n",
    "    \n",
    "    conn = sqlite3.connect(\"/home/azafar/Projects/Allstate-Purchase-Prediction-Challenge/Data/AllState_KaggleDB.sqlite\")\n",
    "    \n",
    "    cur = conn.cursor()\n",
    "    \n",
    "    print conn\n",
    "    \n",
    "    try:\n",
    "        cur.executescript('''\n",
    "        \n",
    "                    DROP TABLE IF EXISTS Customer_ID;\n",
    "                    DROP TABLE IF EXISTS Cust_Hist_Data;\n",
    "                    \n",
    "                    CREATE TABLE Customer_ID (\n",
    "                    cust_id  INTEGER NOT NULL PRIMARY KEY AUTOINCREMENT UNIQUE \n",
    "                    );\n",
    "            \n",
    "                    CREATE TABLE Cust_Hist_Data (\n",
    "                    hist_id INTEGER NOT NULL PRIMARY KEY AUTOINCREMENT UNIQUE \n",
    "                    );\n",
    "                    \n",
    "        ''')\n",
    "        \n",
    "        print \"table created\"\n",
    "        \n",
    "        cur.execute(\"\"\" select name from sqlite_master where type = 'table' \"\"\")\n",
    "        \n",
    "        tables = cur.fetchall()\n",
    "        \n",
    "        print tables\n",
    "    \n",
    "    except:\n",
    "        print \"continue\"\n",
    "    \n",
    "    conn.close()\n",
    "\n",
    "create_insurance_table_db = create_insurance_db()"
   ]
  },
  {
   "cell_type": "markdown",
   "metadata": {},
   "source": [
    "Number of Unique Customers in the database"
   ]
  },
  {
   "cell_type": "code",
   "execution_count": 40,
   "metadata": {
    "collapsed": false
   },
   "outputs": [
    {
     "name": "stdout",
     "output_type": "stream",
     "text": [
      "97009\n"
     ]
    }
   ],
   "source": [
    "print train_data[\"customer_ID\"].unique().shape[0]"
   ]
  },
  {
   "cell_type": "markdown",
   "metadata": {},
   "source": [
    "Storing the unique customer_ID in the SQLITE data base"
   ]
  },
  {
   "cell_type": "code",
   "execution_count": 41,
   "metadata": {
    "collapsed": false
   },
   "outputs": [
    {
     "data": {
      "text/plain": [
       "'\\ndef add_values_table_db(add_in_element):\\n    conn = sqlite3.connect(\"/home/azafar/Projects/Allstate Purchase Prediction Challenge/Data/AllState_KaggleDB.sqlite\")\\n    \\n    cur = conn.cursor()\\n    \\n    cur.execute(\\'\\'\\'INSERT OR IGNORE INTO customer_ID (customer_ID) VALUES (?)\\'\\'\\', (add_in_element,))\\n    \\n    customer_id = cur.fetchone()[0]\\n    \\n    conn.commit()\\n    \\n    conn.close()\\n    \\n    return customer_id\\n'"
      ]
     },
     "execution_count": 41,
     "metadata": {},
     "output_type": "execute_result"
    }
   ],
   "source": [
    "\"\"\"\n",
    "def add_values_table_db(add_in_element):\n",
    "    conn = sqlite3.connect(\"/home/azafar/Projects/Allstate Purchase Prediction Challenge/Data/AllState_KaggleDB.sqlite\")\n",
    "    \n",
    "    cur = conn.cursor()\n",
    "    \n",
    "    cur.execute('''INSERT OR IGNORE INTO customer_ID (customer_ID) VALUES (?)''', (add_in_element,))\n",
    "    \n",
    "    customer_id = cur.fetchone()[0]\n",
    "    \n",
    "    conn.commit()\n",
    "    \n",
    "    conn.close()\n",
    "    \n",
    "    return customer_id\n",
    "\"\"\""
   ]
  },
  {
   "cell_type": "markdown",
   "metadata": {},
   "source": [
    "Storing customer IDs now"
   ]
  },
  {
   "cell_type": "code",
   "execution_count": 42,
   "metadata": {
    "collapsed": false
   },
   "outputs": [
    {
     "name": "stdout",
     "output_type": "stream",
     "text": [
      "10000000\n10000005\n10000007\n10000013\n10000014\n"
     ]
    }
   ],
   "source": [
    "# testing ---\n",
    "\n",
    "count = 0\n",
    "\n",
    "for cust_id1 in (train_data[\"customer_ID\"].unique().tolist()):\n",
    "    print cust_id1\n",
    "    count +=1\n",
    "    if count ==5:\n",
    "        break"
   ]
  },
  {
   "cell_type": "code",
   "execution_count": 43,
   "metadata": {
    "collapsed": false
   },
   "outputs": [
    {
     "name": "stdout",
     "output_type": "stream",
     "text": [
      "done - testing array to list and going back up one cell on Juypter Notebook\n"
     ]
    }
   ],
   "source": [
    "# testing array to list and going back up one cell on the workbook\n",
    "\n",
    "test = train_data[\"customer_ID\"].unique().tolist()\n",
    "\n",
    "print \"done - testing array to list and going back up one cell on Juypter Notebook\""
   ]
  },
  {
   "cell_type": "markdown",
   "metadata": {},
   "source": [
    "Saving the Customer IDs now after testing the iteration."
   ]
  },
  {
   "cell_type": "code",
   "execution_count": 44,
   "metadata": {
    "collapsed": false
   },
   "outputs": [
    {
     "data": {
      "text/plain": [
       "'\\n\\nfor cust_id in (train_data[\"customer_ID\"].unique().tolist()):\\n    \\n    if (type(cust_id) is None): continue\\n    \\n    add_values_table_db(cust_id)\\nprint \"done\"\\n\\n'"
      ]
     },
     "execution_count": 44,
     "metadata": {},
     "output_type": "execute_result"
    }
   ],
   "source": [
    "\"\"\"\n",
    "\n",
    "for cust_id in (train_data[\"customer_ID\"].unique().tolist()):\n",
    "    \n",
    "    if (type(cust_id) is None): continue\n",
    "    \n",
    "    add_values_table_db(cust_id)\n",
    "print \"done\"\n",
    "\n",
    "\"\"\""
   ]
  },
  {
   "cell_type": "code",
   "execution_count": 45,
   "metadata": {
    "collapsed": true
   },
   "outputs": [],
   "source": [
    "#print customer_id"
   ]
  },
  {
   "cell_type": "code",
   "execution_count": 46,
   "metadata": {
    "collapsed": true
   },
   "outputs": [],
   "source": [
    "#len(cust_id)\n",
    "#print \"test\""
   ]
  },
  {
   "cell_type": "markdown",
   "metadata": {},
   "source": [
    "Purged this sqlite data base inserting algorithm. Please scroll down. This is a O^n algorithm and is running really slow. O^n where min_n = 97,000"
   ]
  },
  {
   "cell_type": "code",
   "execution_count": 47,
   "metadata": {
    "collapsed": false
   },
   "outputs": [
    {
     "name": "stdout",
     "output_type": "stream",
     "text": [
      " This was a O^n algorithm, which I purged for an O^1 data dump algorithm \n The minimum Asymptotic Time Complixity was O^n , where n_min = 97K \n"
     ]
    },
    {
     "data": {
      "text/plain": [
       "'\\ndef add_values_table_db():\\n    conn = sqlite3.connect(\"/home/azafar/Projects/Allstate Purchase Prediction Challenge/Data/AllState_KaggleDB.sqlite\")\\n    \\n    cur = conn.cursor()\\n    \\n    try:\\n    \\n        for cust_id in (train_data[\"customer_ID\"].unique().tolist()):\\n        \\n            if (cust_id is None): continue\\n            \\n            cur.execute(\\'INSERT OR IGNORE INTO Customer_ID (customer_ID) VALUES (?)\\', (cust_id,))\\n            \\n            conn.commit()\\n    \\n    except Exception, e:\\n        print\"Somthing went wrong\"\\n        \\n        print e\\n    \\n    finally:\\n        conn.close()\\n\\nprint \"done\"\\n'"
      ]
     },
     "execution_count": 47,
     "metadata": {},
     "output_type": "execute_result"
    }
   ],
   "source": [
    "print \" This was a O^n algorithm, which I purged for an O^1 data dump algorithm \\n \" \\\n",
    "      \"The minimum Asymptotic Time Complixity was O^n , where n_min = 97K \"\n",
    "\n",
    "\"\"\"\n",
    "def add_values_table_db():\n",
    "    conn = sqlite3.connect(\"/home/azafar/Projects/Allstate Purchase Prediction Challenge/Data/AllState_KaggleDB.sqlite\")\n",
    "    \n",
    "    cur = conn.cursor()\n",
    "    \n",
    "    try:\n",
    "    \n",
    "        for cust_id in (train_data[\"customer_ID\"].unique().tolist()):\n",
    "        \n",
    "            if (cust_id is None): continue\n",
    "            \n",
    "            cur.execute('INSERT OR IGNORE INTO Customer_ID (customer_ID) VALUES (?)', (cust_id,))\n",
    "            \n",
    "            conn.commit()\n",
    "    \n",
    "    except Exception, e:\n",
    "        print\"Somthing went wrong\"\n",
    "        \n",
    "        print e\n",
    "    \n",
    "    finally:\n",
    "        conn.close()\n",
    "\n",
    "print \"done\"\n",
    "\"\"\""
   ]
  },
  {
   "cell_type": "code",
   "execution_count": 48,
   "metadata": {
    "collapsed": false
   },
   "outputs": [
    {
     "data": {
      "text/plain": [
       "'\\nprint \"start\"\\n\\nadd_customer_ids = add_values_table_db()\\n\\nprint \"done\"\\n'"
      ]
     },
     "execution_count": 48,
     "metadata": {},
     "output_type": "execute_result"
    }
   ],
   "source": [
    "\"\"\"\n",
    "print \"start\"\n",
    "\n",
    "add_customer_ids = add_values_table_db()\n",
    "\n",
    "print \"done\"\n",
    "\"\"\""
   ]
  },
  {
   "cell_type": "code",
   "execution_count": 49,
   "metadata": {
    "collapsed": false
   },
   "outputs": [
    {
     "data": {
      "text/plain": [
       "'\\n\\nprint type(run)\\n\\nprint run\\n\\nrun == None\\n\\n'"
      ]
     },
     "execution_count": 49,
     "metadata": {},
     "output_type": "execute_result"
    }
   ],
   "source": [
    "\"\"\"\n",
    "\n",
    "print type(run)\n",
    "\n",
    "print run\n",
    "\n",
    "run == None\n",
    "\n",
    "\"\"\""
   ]
  },
  {
   "cell_type": "markdown",
   "metadata": {},
   "source": [
    "Testing and preparing to insert customer ids into sqlite"
   ]
  },
  {
   "cell_type": "markdown",
   "metadata": {},
   "source": [
    "Checking the first 10 elements of customer id from the df by converting it to a list. syntax works"
   ]
  },
  {
   "cell_type": "code",
   "execution_count": 50,
   "metadata": {
    "collapsed": false
   },
   "outputs": [
    {
     "name": "stdout",
     "output_type": "stream",
     "text": [
      "[10000000, 10000005, 10000007, 10000013, 10000014, 10000016, 10000019, 10000023, 10000025, 10000026]\n"
     ]
    }
   ],
   "source": [
    "print (train_data[\"customer_ID\"].unique().tolist())[:10]"
   ]
  },
  {
   "cell_type": "markdown",
   "metadata": {},
   "source": [
    "Please Scroll down, here I was testing if the data was inserted in the sqlite db"
   ]
  },
  {
   "cell_type": "code",
   "execution_count": 51,
   "metadata": {
    "collapsed": false
   },
   "outputs": [
    {
     "data": {
      "text/plain": [
       "'\\nconn = sqlite3.connect(\"/home/azafar/Projects/Allstate Purchase Prediction Challenge/Data/AllState_KaggleDB.sqlite\")\\n    \\ncur = conn.cursor()\\n\\ncur.execute(\\' SELECT customer_ID FROM Customer_ID LIMIT 10\\')\\n\\nrun = cur.fetchall()\\n\\nconn.commit()\\n\\nconn.close()\\n\\nprint run\\n\\n'"
      ]
     },
     "execution_count": 51,
     "metadata": {},
     "output_type": "execute_result"
    }
   ],
   "source": [
    "\"\"\"\n",
    "conn = sqlite3.connect(\"/home/azafar/Projects/Allstate Purchase Prediction Challenge/Data/AllState_KaggleDB.sqlite\")\n",
    "    \n",
    "cur = conn.cursor()\n",
    "\n",
    "cur.execute(' SELECT customer_ID FROM Customer_ID LIMIT 10')\n",
    "\n",
    "run = cur.fetchall()\n",
    "\n",
    "conn.commit()\n",
    "\n",
    "conn.close()\n",
    "\n",
    "print run\n",
    "\n",
    "\"\"\""
   ]
  },
  {
   "cell_type": "markdown",
   "metadata": {},
   "source": [
    "Keeping scrolling Down -  more testing here."
   ]
  },
  {
   "cell_type": "code",
   "execution_count": 52,
   "metadata": {
    "collapsed": false
   },
   "outputs": [
    {
     "data": {
      "text/plain": [
       "'\\nconn = sqlite3.connect(\"/home/azafar/Projects/Allstate Purchase Prediction Challenge/Data/AllState_KaggleDB.sqlite\")\\n\\ntrain_data[\"customer_ID\"].unique().to_sql(con = conn, name = \\'Customer_ID\\', \\n                                 if_exists=\\'replace\\',flavor=\\'sqlite\\')\\n\\nprint \"done\"\\n'"
      ]
     },
     "execution_count": 52,
     "metadata": {},
     "output_type": "execute_result"
    }
   ],
   "source": [
    "\"\"\"\n",
    "conn = sqlite3.connect(\"/home/azafar/Projects/Allstate Purchase Prediction Challenge/Data/AllState_KaggleDB.sqlite\")\n",
    "\n",
    "train_data[\"customer_ID\"].unique().to_sql(con = conn, name = 'Customer_ID', \n",
    "                                 if_exists='replace',flavor='sqlite')\n",
    "\n",
    "print \"done\"\n",
    "\"\"\""
   ]
  },
  {
   "cell_type": "markdown",
   "metadata": {},
   "source": [
    "Creating the Customer_ID Data frame for dumping into the SQLITE DB."
   ]
  },
  {
   "cell_type": "code",
   "execution_count": 53,
   "metadata": {
    "collapsed": false
   },
   "outputs": [
    {
     "name": "stdout",
     "output_type": "stream",
     "text": [
      "done\n"
     ]
    }
   ],
   "source": [
    "customer_id_df = pd.DataFrame(train_data[\"customer_ID\"].unique().tolist(), columns=[\"customer_ID\"],dtype='int')\n",
    "\n",
    "print \"done\""
   ]
  },
  {
   "cell_type": "code",
   "execution_count": 54,
   "metadata": {
    "collapsed": false
   },
   "outputs": [
    {
     "name": "stdout",
     "output_type": "stream",
     "text": [
      "<type 'numpy.int64'>\n   customer_ID\n0     10000000\n1     10000005\n2     10000007\n3     10000013\n4     10000014\n"
     ]
    }
   ],
   "source": [
    "print type(customer_id_df.ix[0,0])\n",
    "\n",
    "print customer_id_df.head()"
   ]
  },
  {
   "cell_type": "markdown",
   "metadata": {},
   "source": [
    "The SQLITE - DB Creation of DF Tables- Dumping customer_ID into the table Customer_ID. This is a O^1 algorithm. "
   ]
  },
  {
   "cell_type": "code",
   "execution_count": 55,
   "metadata": {
    "collapsed": false
   },
   "outputs": [
    {
     "name": "stdout",
     "output_type": "stream",
     "text": [
      "dumped data into Customer_ID table - tuple : customer_ID\n"
     ]
    }
   ],
   "source": [
    "conn = sqlite3.connect(\"/home/azafar/Projects/Allstate-Purchase-Prediction-Challenge/Data/AllState_KaggleDB.sqlite\")\n",
    "\n",
    "customer_id_df.to_sql(con = conn, name = 'Customer_ID', \n",
    "                                 if_exists='replace',flavor='sqlite')\n",
    "\n",
    "print \"dumped data into Customer_ID table - tuple : customer_ID\""
   ]
  },
  {
   "cell_type": "markdown",
   "metadata": {},
   "source": [
    "Testing the newly created column customer_ID in sqlite db AllState_Kaggle.sql"
   ]
  },
  {
   "cell_type": "code",
   "execution_count": 56,
   "metadata": {
    "collapsed": false
   },
   "outputs": [
    {
     "name": "stdout",
     "output_type": "stream",
     "text": [
      "[(0, 10000000), (1, 10000005), (2, 10000007), (3, 10000013), (4, 10000014), (5, 10000016), (6, 10000019), (7, 10000023), (8, 10000025), (9, 10000026)]\n"
     ]
    }
   ],
   "source": [
    "conn = sqlite3.connect(\"/home/azafar/Projects/Allstate-Purchase-Prediction-Challenge/Data/AllState_KaggleDB.sqlite\")\n",
    "    \n",
    "cur = conn.cursor()\n",
    "\n",
    "cur.execute(' SELECT * FROM Customer_ID LIMIT 10')\n",
    "\n",
    "run = cur.fetchall()\n",
    "\n",
    "conn.commit()\n",
    "\n",
    "conn.close()\n",
    "\n",
    "print run"
   ]
  },
  {
   "cell_type": "markdown",
   "metadata": {},
   "source": [
    "It worked! - Saving/commiting here. Asymptotic Time Complixity - O^1"
   ]
  },
  {
   "cell_type": "markdown",
   "metadata": {},
   "source": [
    "Now Storing the Historical Data of the Customers, insurance offers, and the insurance package they picked."
   ]
  },
  {
   "cell_type": "markdown",
   "metadata": {},
   "source": [
    "checking the column names to store"
   ]
  },
  {
   "cell_type": "code",
   "execution_count": 57,
   "metadata": {
    "collapsed": true
   },
   "outputs": [
    {
     "name": "stdout",
     "output_type": "stream",
     "text": [
      "['customer_ID', 'shopping_pt', 'record_type', 'day', 'time', 'state', 'location', 'group_size', 'homeowner', 'car_age', 'car_value', 'risk_factor', 'age_oldest', 'age_youngest', 'married_couple', 'C_previous', 'duration_previous']\n"
     ]
    }
   ],
   "source": [
    "all_hist_cust_column_list = list(train_data.columns.values)[:-8]\n",
    "\n",
    "print all_hist_cust_column_list"
   ]
  },
  {
   "cell_type": "markdown",
   "metadata": {},
   "source": [
    "Creating columns for customer historical data, NOT thier purchase history or the quotes that were proposed to them"
   ]
  },
  {
   "cell_type": "code",
   "execution_count": 58,
   "metadata": {},
   "outputs": [
    {
     "name": "stdout",
     "output_type": "stream",
     "text": [
      "['customer_ID', 'state', 'location', 'group_size', 'homeowner', 'car_age', 'car_value', 'risk_factor', 'age_oldest', 'age_youngest', 'married_couple', 'C_previous', 'duration_previous']\n\n These are the common tuples related only to the customer historical data\n"
     ]
    }
   ],
   "source": [
    "hist_cust_column_list = ['customer_ID','state', \n",
    "                         \n",
    "                         'location','group_size', \n",
    "                         \n",
    "                         'homeowner', 'car_age',\n",
    "                         \n",
    "                         'car_value', 'risk_factor', \n",
    "                         \n",
    "                         'age_oldest', 'age_youngest', \n",
    "                         \n",
    "                         'married_couple', 'C_previous', \n",
    "                         \n",
    "                         'duration_previous'\n",
    "                         ]\n",
    "\n",
    "print hist_cust_column_list\n",
    "\n",
    "print \"\\n These are the common tuples related only to the customer historical data\""
   ]
  },
  {
   "cell_type": "markdown",
   "metadata": {},
   "source": [
    "Storing the historicl data into the SQLITE db"
   ]
  },
  {
   "cell_type": "code",
   "execution_count": 59,
   "metadata": {
    "collapsed": true
   },
   "outputs": [
    {
     "name": "stdout",
     "output_type": "stream",
     "text": [
      "   customer_ID state  location  group_size  homeowner  car_age car_value  \\\n0     10000000    IN     10001           2          0        2         g   \n1     10000000    IN     10001           2          0        2         g   \n2     10000000    IN     10001           2          0        2         g   \n3     10000000    IN     10001           2          0        2         g   \n4     10000000    IN     10001           2          0        2         g   \n\n   risk_factor  age_oldest  age_youngest  married_couple  C_previous  \\\n0          3.0          46            42               1         1.0   \n1          3.0          46            42               1         1.0   \n2          3.0          46            42               1         1.0   \n3          3.0          46            42               1         1.0   \n4          3.0          46            42               1         1.0   \n\n   duration_previous  \n0                2.0  \n1                2.0  \n2                2.0  \n3                2.0  \n4                2.0  \n"
     ]
    }
   ],
   "source": [
    "cust_hist_data_df_test = train_data[hist_cust_column_list]\n",
    "\n",
    "print cust_hist_data_df_test.head()"
   ]
  },
  {
   "cell_type": "markdown",
   "metadata": {},
   "source": [
    "Cleaning the Data Frame to contain only one record per customer"
   ]
  },
  {
   "cell_type": "code",
   "execution_count": 60,
   "metadata": {},
   "outputs": [
    {
     "name": "stdout",
     "output_type": "stream",
     "text": [
      "[10000000, 10000005, 10000007, 10000013, 10000014, 10000016, 10000019, 10000023, 10000025, 10000026]\n['IN', 'NY', 'PA', 'WV', 'MO', 'OH', 'OK', 'FL', 'OR', 'WA']\n[10001, 10006, 10008, 10014, 10015, 10017, 10018, 10021, 10025, 10027]\n[2, 1, 3, 4]\n[0, 1]\n[2, 10, 11, 3, 5, 6, 7, 15, 17, 1]\n['g', 'e', 'c', 'd', 'f', 'h', 'i', 'b', 'a']\n[3.0, 4.0, 2.0, 1.0]\n[46, 28, 43, 62, 32, 24, 21, 31, 63, 52]\n[42, 28, 43, 60, 24, 21, 31, 63, 17, 57]\n[1, 0]\n[1.0, 3.0, 2.0, 4.0]\n[2.0, 13.0, 4.0, 3.0, 9.0, 0.0, 1.0, 8.0, 14.0, 6.0037739467749764]\n\n The iteration is working as imagined, now storing a set of the customers common historical data\n"
     ]
    }
   ],
   "source": [
    "for columns_test in hist_cust_column_list:\n",
    "    print train_data[columns_test].unique().tolist()[:10]\n",
    "    \n",
    "print \"\\n The iteration is working as imagined, now storing a set of the customers common historical data\""
   ]
  },
  {
   "cell_type": "markdown",
   "metadata": {},
   "source": [
    "Testing the comparision function of customer id column in the df against each customer id number"
   ]
  },
  {
   "cell_type": "code",
   "execution_count": 63,
   "metadata": {},
   "outputs": [
    {
     "name": "stdout",
     "output_type": "stream",
     "text": [
      "\n head of the customer id against the customer id number\n0    True\n1    True\n2    True\n3    True\n4    True\nName: customer_ID, dtype: bool\n\n tail of customer id against customer id number\n665244    False\n665245    False\n665246    False\n665247    False\n665248    False\nName: customer_ID, dtype: bool\n\n customer id number table out of the pd df\n10000000\n"
     ]
    }
   ],
   "source": [
    "print \"\\n head of the customer id against the customer id number\"\n",
    "\n",
    "print train_data[\"customer_ID\"].head() == train_data[hist_cust_column_list[0]].tolist()[0]\n",
    "\n",
    "print \"\\n tail of customer id against customer id number\"\n",
    "\n",
    "print train_data[\"customer_ID\"].tail() == train_data[hist_cust_column_list[0]].tolist()[0]\n",
    "\n",
    "print \"\\n customer id number table out of the pd df\"\n",
    "\n",
    "print train_data[hist_cust_column_list[0]].tolist()[0]"
   ]
  },
  {
   "cell_type": "code",
   "execution_count": null,
   "metadata": {},
   "outputs": [],
   "source": [
    "Creating a cleaner DF of customer historical data - this df only contain one tuple of values for each customer"
   ]
  },
  {
   "cell_type": "code",
   "execution_count": null,
   "metadata": {},
   "outputs": [],
   "source": [
    "Creating a cleaner DF of customer historical data - this df only contain one tuple of values for each customer"
   ]
  },
  {
   "cell_type": "code",
   "execution_count": 64,
   "metadata": {},
   "outputs": [
    {
     "data": {
      "text/plain": [
       "'\\ncust_hist_data_df = pd.DataFrame(index= [len(hist_cust_column_list[0])])\\n\\nfor custs in hist_cust_column_list[0][:10]:\\n    train_data.ix[:,:][train_data[\"customer_ID\"] == train_data[custs].tolist()[0]\\nprint \"done\"\\n\\n'"
      ]
     },
     "execution_count": 64,
     "metadata": {},
     "output_type": "execute_result"
    }
   ],
   "source": [
    "\"\"\"\n",
    "cust_hist_data_df = pd.DataFrame(index= [len(hist_cust_column_list[0])])\n",
    "\n",
    "for custs in hist_cust_column_list[0][:10]:\n",
    "    train_data.ix[:,:][train_data[\"customer_ID\"] == train_data[custs].tolist()[0]\n",
    "print \"done\"\n",
    "\n",
    "\"\"\""
   ]
  },
  {
   "cell_type": "markdown",
   "metadata": {},
   "source": [
    "Testing the comparision function of customer id column in the df against each customer id number"
   ]
  },
  {
   "cell_type": "markdown",
   "metadata": {},
   "source": [
    "Creating a DF a set of customer data"
   ]
  },
  {
   "cell_type": "code",
   "execution_count": 74,
   "metadata": {},
   "outputs": [
    {
     "name": "stdout",
     "output_type": "stream",
     "text": [
      "   customer_ID\n0     10000000\n1     10000005\n2     10000007\n3     10000013\n4     10000014\n"
     ]
    },
    {
     "ename": "ValueError",
     "evalue": "Wrong number of items passed 36, placement implies 97009",
     "traceback": [
      "\u001b[1;31m---------------------------------------------------------------------------\u001b[0m",
      "\u001b[1;31mValueError\u001b[0m                                Traceback (most recent call last)",
      "\u001b[1;32m<ipython-input-74-da92a047673c>\u001b[0m in \u001b[0;36m<module>\u001b[1;34m()\u001b[0m\n\u001b[0;32m      4\u001b[0m \u001b[1;33m\u001b[0m\u001b[0m\n\u001b[0;32m      5\u001b[0m \u001b[1;32mfor\u001b[0m \u001b[0mcolumns\u001b[0m \u001b[1;32min\u001b[0m \u001b[0mhist_cust_column_list\u001b[0m\u001b[1;33m[\u001b[0m\u001b[1;36m1\u001b[0m\u001b[1;33m:\u001b[0m\u001b[1;33m]\u001b[0m\u001b[1;33m:\u001b[0m\u001b[1;33m\u001b[0m\u001b[0m\n\u001b[1;32m----> 6\u001b[1;33m     \u001b[0mcust_hist_data_df\u001b[0m\u001b[1;33m[\u001b[0m\u001b[0mcolumns\u001b[0m\u001b[1;33m]\u001b[0m \u001b[1;33m=\u001b[0m \u001b[0mpd\u001b[0m\u001b[1;33m.\u001b[0m\u001b[0mSeries\u001b[0m\u001b[1;33m(\u001b[0m\u001b[0mtrain_data\u001b[0m\u001b[1;33m[\u001b[0m\u001b[0mcolumns\u001b[0m\u001b[1;33m]\u001b[0m\u001b[1;33m.\u001b[0m\u001b[0munique\u001b[0m\u001b[1;33m(\u001b[0m\u001b[1;33m)\u001b[0m\u001b[1;33m.\u001b[0m\u001b[0mtolist\u001b[0m\u001b[1;33m(\u001b[0m\u001b[1;33m)\u001b[0m\u001b[1;33m,\u001b[0m \u001b[0mindex\u001b[0m\u001b[1;33m=\u001b[0m \u001b[0mcust_hist_data_df\u001b[0m\u001b[1;33m.\u001b[0m\u001b[0mindex\u001b[0m\u001b[1;33m)\u001b[0m\u001b[1;33m\u001b[0m\u001b[0m\n\u001b[0m\u001b[0;32m      7\u001b[0m \u001b[1;33m\u001b[0m\u001b[0m\n\u001b[0;32m      8\u001b[0m \u001b[1;32mprint\u001b[0m \u001b[1;34m\"done\"\u001b[0m\u001b[1;33m\u001b[0m\u001b[0m\n",
      "\u001b[1;32m/etc/Anaconda2/Conda2/lib/python2.7/site-packages/pandas/core/series.py\u001b[0m in \u001b[0;36m__init__\u001b[1;34m(self, data, index, dtype, name, copy, fastpath)\u001b[0m\n\u001b[0;32m    226\u001b[0m                                        raise_cast_failure=True)\n\u001b[0;32m    227\u001b[0m \u001b[1;33m\u001b[0m\u001b[0m\n\u001b[1;32m--> 228\u001b[1;33m                 \u001b[0mdata\u001b[0m \u001b[1;33m=\u001b[0m \u001b[0mSingleBlockManager\u001b[0m\u001b[1;33m(\u001b[0m\u001b[0mdata\u001b[0m\u001b[1;33m,\u001b[0m \u001b[0mindex\u001b[0m\u001b[1;33m,\u001b[0m \u001b[0mfastpath\u001b[0m\u001b[1;33m=\u001b[0m\u001b[0mTrue\u001b[0m\u001b[1;33m)\u001b[0m\u001b[1;33m\u001b[0m\u001b[0m\n\u001b[0m\u001b[0;32m    229\u001b[0m \u001b[1;33m\u001b[0m\u001b[0m\n\u001b[0;32m    230\u001b[0m         \u001b[0mgeneric\u001b[0m\u001b[1;33m.\u001b[0m\u001b[0mNDFrame\u001b[0m\u001b[1;33m.\u001b[0m\u001b[0m__init__\u001b[0m\u001b[1;33m(\u001b[0m\u001b[0mself\u001b[0m\u001b[1;33m,\u001b[0m \u001b[0mdata\u001b[0m\u001b[1;33m,\u001b[0m \u001b[0mfastpath\u001b[0m\u001b[1;33m=\u001b[0m\u001b[0mTrue\u001b[0m\u001b[1;33m)\u001b[0m\u001b[1;33m\u001b[0m\u001b[0m\n",
      "\u001b[1;32m/etc/Anaconda2/Conda2/lib/python2.7/site-packages/pandas/core/internals.py\u001b[0m in \u001b[0;36m__init__\u001b[1;34m(self, block, axis, do_integrity_check, fastpath)\u001b[0m\n\u001b[0;32m   3750\u001b[0m         \u001b[1;32mif\u001b[0m \u001b[1;32mnot\u001b[0m \u001b[0misinstance\u001b[0m\u001b[1;33m(\u001b[0m\u001b[0mblock\u001b[0m\u001b[1;33m,\u001b[0m \u001b[0mBlock\u001b[0m\u001b[1;33m)\u001b[0m\u001b[1;33m:\u001b[0m\u001b[1;33m\u001b[0m\u001b[0m\n\u001b[0;32m   3751\u001b[0m             block = make_block(block, placement=slice(0, len(axis)), ndim=1,\n\u001b[1;32m-> 3752\u001b[1;33m                                fastpath=True)\n\u001b[0m\u001b[0;32m   3753\u001b[0m \u001b[1;33m\u001b[0m\u001b[0m\n\u001b[0;32m   3754\u001b[0m         \u001b[0mself\u001b[0m\u001b[1;33m.\u001b[0m\u001b[0mblocks\u001b[0m \u001b[1;33m=\u001b[0m \u001b[1;33m[\u001b[0m\u001b[0mblock\u001b[0m\u001b[1;33m]\u001b[0m\u001b[1;33m\u001b[0m\u001b[0m\n",
      "\u001b[1;32m/etc/Anaconda2/Conda2/lib/python2.7/site-packages/pandas/core/internals.py\u001b[0m in \u001b[0;36mmake_block\u001b[1;34m(values, placement, klass, ndim, dtype, fastpath)\u001b[0m\n\u001b[0;32m   2459\u001b[0m                      placement=placement, dtype=dtype)\n\u001b[0;32m   2460\u001b[0m \u001b[1;33m\u001b[0m\u001b[0m\n\u001b[1;32m-> 2461\u001b[1;33m     \u001b[1;32mreturn\u001b[0m \u001b[0mklass\u001b[0m\u001b[1;33m(\u001b[0m\u001b[0mvalues\u001b[0m\u001b[1;33m,\u001b[0m \u001b[0mndim\u001b[0m\u001b[1;33m=\u001b[0m\u001b[0mndim\u001b[0m\u001b[1;33m,\u001b[0m \u001b[0mfastpath\u001b[0m\u001b[1;33m=\u001b[0m\u001b[0mfastpath\u001b[0m\u001b[1;33m,\u001b[0m \u001b[0mplacement\u001b[0m\u001b[1;33m=\u001b[0m\u001b[0mplacement\u001b[0m\u001b[1;33m)\u001b[0m\u001b[1;33m\u001b[0m\u001b[0m\n\u001b[0m\u001b[0;32m   2462\u001b[0m \u001b[1;33m\u001b[0m\u001b[0m\n\u001b[0;32m   2463\u001b[0m \u001b[1;31m# TODO: flexible with index=None and/or items=None\u001b[0m\u001b[1;33m\u001b[0m\u001b[1;33m\u001b[0m\u001b[0m\n",
      "\u001b[1;32m/etc/Anaconda2/Conda2/lib/python2.7/site-packages/pandas/core/internals.py\u001b[0m in \u001b[0;36m__init__\u001b[1;34m(self, values, ndim, fastpath, placement, **kwargs)\u001b[0m\n\u001b[0;32m   1608\u001b[0m \u001b[1;33m\u001b[0m\u001b[0m\n\u001b[0;32m   1609\u001b[0m         super(ObjectBlock, self).__init__(values, ndim=ndim, fastpath=fastpath,\n\u001b[1;32m-> 1610\u001b[1;33m                                           placement=placement, **kwargs)\n\u001b[0m\u001b[0;32m   1611\u001b[0m \u001b[1;33m\u001b[0m\u001b[0m\n\u001b[0;32m   1612\u001b[0m     \u001b[1;33m@\u001b[0m\u001b[0mproperty\u001b[0m\u001b[1;33m\u001b[0m\u001b[0m\n",
      "\u001b[1;32m/etc/Anaconda2/Conda2/lib/python2.7/site-packages/pandas/core/internals.py\u001b[0m in \u001b[0;36m__init__\u001b[1;34m(self, values, placement, ndim, fastpath)\u001b[0m\n\u001b[0;32m     82\u001b[0m             raise ValueError('Wrong number of items passed %d, placement '\n\u001b[0;32m     83\u001b[0m                              'implies %d' % (len(self.values),\n\u001b[1;32m---> 84\u001b[1;33m                                              len(self.mgr_locs)))\n\u001b[0m\u001b[0;32m     85\u001b[0m \u001b[1;33m\u001b[0m\u001b[0m\n\u001b[0;32m     86\u001b[0m     \u001b[1;33m@\u001b[0m\u001b[0mproperty\u001b[0m\u001b[1;33m\u001b[0m\u001b[0m\n",
      "\u001b[1;31mValueError\u001b[0m: Wrong number of items passed 36, placement implies 97009"
     ],
     "output_type": "error"
    }
   ],
   "source": [
    "cust_hist_data_df = pd.DataFrame(data= train_data[hist_cust_column_list[0]].unique().tolist(), columns= [hist_cust_column_list[0]])\n",
    "\n",
    "print cust_hist_data_df.head()\n",
    "\n",
    "for columns in hist_cust_column_list[1:]:\n",
    "    cust_hist_data_df[columns] = pd.Series(train_data[columns][train_data['customer_ID'].unique()], index= cust_hist_data_df.index)\n",
    "    \n",
    "print \"done\""
   ]
  },
  {
   "cell_type": "code",
   "execution_count": null,
   "metadata": {},
   "outputs": [],
   "source": [
    ""
   ]
  },
  {
   "cell_type": "markdown",
   "metadata": {},
   "source": [
    "Dumping the Customer historical data into the Cust_Hist_Data db"
   ]
  },
  {
   "cell_type": "code",
   "execution_count": 74,
   "metadata": {},
   "outputs": [
    {
     "name": "stdout",
     "output_type": "stream",
     "text": [
      "dumped data into Cust_Hist_Data (Customer Historical Data) table - tuple : check hist_cust_column_list for the column names\n"
     ]
    }
   ],
   "source": [
    "conn = sqlite3.connect(\"/home/azafar/Projects/Allstate-Purchase-Prediction-Challenge/Data/AllState_KaggleDB.sqlite\")\n",
    "\n",
    "cust_hist_data_df.to_sql(con = conn, name = 'Cust_Hist_Data', \n",
    "                                 if_exists='replace',flavor='sqlite')\n",
    "\n",
    "print \"dumped data into Cust_Hist_Data (Customer Historical Data) table - tuple : check hist_cust_column_list for the column names\""
   ]
  },
  {
   "cell_type": "markdown",
   "metadata": {},
   "source": [
    "Exploring the newly created db of customer historical data. Making sense and building cofounding reasons.\n",
    "\n",
    "1) shopping_pt -  Shopping points - Is the Insurannce quote number- starting from 1. The shopping_pt quote increments as All State representative proposes a new quote.\n",
    "2) This is linked to the day in the pursuing the lead (customer)- day\n",
    "3) day - The day starts at 0, when a new quote is proposed to the customer. And it increments and stored when a new quote is proposed to the customer. \n",
    "\tExample: On day 0, Bob the Customer was given Quote number 1 (shopping_pt = 1. This will be day 1 (day = 1). \n",
    "4) record_type - There are only two types of record for the quotes. \n",
    "\ti) The record 0, for a quote\n",
    "\tii) the record 1, for the insurnace plan bought.\n",
    "Therefore, this is a binary category for stating lead proposal (0) and purchased proposal (1)\n",
    "  "
   ]
  },
  {
   "cell_type": "code",
   "execution_count": null,
   "metadata": {},
   "outputs": [],
   "source": [
    ""
   ]
  },
  {
   "cell_type": "code",
   "execution_count": null,
   "metadata": {},
   "outputs": [],
   "source": [
    ""
   ]
  }
 ],
 "metadata": {
  "kernelspec": {
   "display_name": "Python [Root]",
   "language": "python",
   "name": "Python [Root]"
  },
  "language_info": {
   "codemirror_mode": {
    "name": "ipython",
    "version": 2.0
   },
   "file_extension": ".py",
   "mimetype": "text/x-python",
   "name": "python",
   "nbconvert_exporter": "python",
   "pygments_lexer": "ipython2",
   "version": "2.7.12"
  }
 },
 "nbformat": 4,
 "nbformat_minor": 0
}