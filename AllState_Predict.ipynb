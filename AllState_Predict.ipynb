{
 "cells": [
  {
   "cell_type": "markdown",
   "metadata": {},
   "source": [
    "Kaggle Competition - Predict a purchased policy based on transaction history"
   ]
  },
  {
   "cell_type": "markdown",
   "metadata": {},
   "source": [
    "As a customer shops an insurance policy, he/she will receive a number of quotes with different coverage options before purchasing a plan. This is represented in this challenge as a series of rows that include a customer ID, information about the customer, information about the quoted policy, and the cost. Your task is to predict the purchased coverage options using a limited subset of the total interaction history. If the eventual purchase can be predicted sooner in the shopping window, the quoting process is shortened and the issuer is less likely to lose the customer's business.\n",
    "\n",
    "Using a customer’s shopping history, can you predict what policy they will end up choosing?"
   ]
  },
  {
   "cell_type": "markdown",
   "metadata": {},
   "source": [
    "Importing Libraries"
   ]
  },
  {
   "cell_type": "code",
   "execution_count": 1,
   "metadata": {},
   "outputs": [
    {
     "name": "stdout",
     "output_type": "stream",
     "text": [
      "Populating the interactive namespace from numpy and matplotlib\n"
     ]
    }
   ],
   "source": [
    "import pandas as pd\n",
    "\n",
    "import matplotlib.pyplot as plt\n",
    "\n",
    "%pylab inline\n",
    "\n",
    "import numpy as np\n",
    "\n",
    "import sklearn\n",
    "\n",
    "import sqlite3"
   ]
  },
  {
   "cell_type": "markdown",
   "metadata": {},
   "source": [
    "Loading Data files"
   ]
  },
  {
   "cell_type": "code",
   "execution_count": 2,
   "metadata": {},
   "outputs": [],
   "source": [
    "train_data_csv = \"/home/azafar/Projects/Allstate Purchase Prediction Challenge/Data/train.csv\"\n",
    "\n",
    "test_data_csv = \"/home/azafar/Projects/Allstate Purchase Prediction Challenge/Data/test_v2.csv\""
   ]
  },
  {
   "cell_type": "code",
   "execution_count": 3,
   "metadata": {},
   "outputs": [],
   "source": [
    "def read_csv(file):\n",
    "    return pd.read_csv(file)"
   ]
  },
  {
   "cell_type": "code",
   "execution_count": 4,
   "metadata": {},
   "outputs": [],
   "source": [
    "train_data = read_csv(train_data_csv)\n",
    "\n",
    "test_data = read_csv(test_data_csv)"
   ]
  },
  {
   "cell_type": "markdown",
   "metadata": {},
   "source": [
    "Train Data Head"
   ]
  },
  {
   "cell_type": "code",
   "execution_count": 5,
   "metadata": {},
   "outputs": [
    {
     "name": "stdout",
     "output_type": "stream",
     "text": [
      "   customer_ID  shopping_pt  record_type  day   time state  location  \\\n0     10000000            1            0    0  08:35    IN     10001   \n1     10000000            2            0    0  08:38    IN     10001   \n2     10000000            3            0    0  08:38    IN     10001   \n3     10000000            4            0    0  08:39    IN     10001   \n4     10000000            5            0    0  11:55    IN     10001   \n\n   group_size  homeowner  car_age  ...  C_previous  duration_previous  A  B  \\\n0           2          0        2  ...         1.0                2.0  1  0   \n1           2          0        2  ...         1.0                2.0  1  0   \n2           2          0        2  ...         1.0                2.0  1  0   \n3           2          0        2  ...         1.0                2.0  1  0   \n4           2          0        2  ...         1.0                2.0  1  0   \n\n   C  D  E  F  G  cost  \n0  2  2  1  2  2   633  \n1  2  2  1  2  1   630  \n2  2  2  1  2  1   630  \n3  2  2  1  2  1   630  \n4  2  2  1  2  1   630  \n\n[5 rows x 25 columns]\n"
     ]
    }
   ],
   "source": [
    "print train_data.head()"
   ]
  },
  {
   "cell_type": "code",
   "execution_count": 6,
   "metadata": {},
   "outputs": [
    {
     "name": "stdout",
     "output_type": "stream",
     "text": [
      "665249\n2\n"
     ]
    }
   ],
   "source": [
    "#checking dimensions\n",
    "\n",
    "print len(train_data)\n",
    "\n",
    "print train_data.ndim"
   ]
  },
  {
   "cell_type": "code",
   "execution_count": 7,
   "metadata": {},
   "outputs": [
    {
     "name": "stdout",
     "output_type": "stream",
     "text": [
      "        customer_ID    shopping_pt    record_type            day  \\\ncount  6.652490e+05  665249.000000  665249.000000  665249.000000   \nmean   1.007655e+07       4.219966       0.145824       1.969429   \nstd    4.404978e+04       2.394369       0.352930       1.453470   \nmin    1.000000e+07       1.000000       0.000000       0.000000   \n25%    1.003852e+07       2.000000       0.000000       1.000000   \n50%    1.007640e+07       4.000000       0.000000       2.000000   \n75%    1.011470e+07       6.000000       0.000000       3.000000   \nmax    1.015272e+07      13.000000       1.000000       6.000000   \n\n            location     group_size      homeowner        car_age  \\\ncount  665249.000000  665249.000000  665249.000000  665249.000000   \nmean    12271.543022       1.234784       0.536229       8.139437   \nstd      1564.789415       0.461036       0.498686       5.764598   \nmin     10001.000000       1.000000       0.000000       0.000000   \n25%     10936.000000       1.000000       0.000000       3.000000   \n50%     12027.000000       1.000000       1.000000       7.000000   \n75%     13426.000000       1.000000       1.000000      12.000000   \nmax     16580.000000       4.000000       1.000000      85.000000   \n\n         risk_factor     age_oldest      ...           C_previous  \\\ncount  424831.000000  665249.000000      ...        646538.000000   \nmean        2.563996      44.992403      ...             2.444718   \nstd         1.111584      17.403440      ...             1.034596   \nmin         1.000000      18.000000      ...             1.000000   \n25%         2.000000      28.000000      ...             1.000000   \n50%         3.000000      44.000000      ...             3.000000   \n75%         4.000000      60.000000      ...             3.000000   \nmax         4.000000      75.000000      ...             4.000000   \n\n       duration_previous              A              B              C  \\\ncount      646538.000000  665249.000000  665249.000000  665249.000000   \nmean            6.003774       0.927546       0.454236       2.275265   \nstd             4.680793       0.595221       0.497902       0.990798   \nmin             0.000000       0.000000       0.000000       1.000000   \n25%             2.000000       1.000000       0.000000       1.000000   \n50%             5.000000       1.000000       0.000000       2.000000   \n75%             9.000000       1.000000       1.000000       3.000000   \nmax            15.000000       2.000000       1.000000       4.000000   \n\n                   D              E              F              G  \\\ncount  665249.000000  665249.000000  665249.000000  665249.000000   \nmean        2.454299       0.445193       1.162768       2.275120   \nstd         0.753953       0.496987       0.943594       0.909567   \nmin         1.000000       0.000000       0.000000       1.000000   \n25%         2.000000       0.000000       0.000000       2.000000   \n50%         3.000000       0.000000       1.000000       2.000000   \n75%         3.000000       1.000000       2.000000       3.000000   \nmax         3.000000       1.000000       3.000000       4.000000   \n\n                cost  \ncount  665249.000000  \nmean      635.785008  \nstd        45.993758  \nmin       260.000000  \n25%       605.000000  \n50%       635.000000  \n75%       665.000000  \nmax       922.000000  \n\n[8 rows x 22 columns]\n"
     ]
    }
   ],
   "source": [
    "print train_data.ix[:,:].describe()"
   ]
  },
  {
   "cell_type": "markdown",
   "metadata": {},
   "source": [
    "Training data missing values"
   ]
  },
  {
   "cell_type": "code",
   "execution_count": 8,
   "metadata": {},
   "outputs": [
    {
     "name": "stdout",
     "output_type": "stream",
     "text": [
      "customer_ID          0.000000\nshopping_pt          0.000000\nrecord_type          0.000000\nday                  0.000000\ntime                 0.000000\nstate                0.000000\nlocation             0.000000\ngroup_size           0.000000\nhomeowner            0.000000\ncar_age              0.000000\ncar_value            0.002301\nrisk_factor          0.361396\nage_oldest           0.000000\nage_youngest         0.000000\nmarried_couple       0.000000\nC_previous           0.028126\nduration_previous    0.028126\nA                    0.000000\nB                    0.000000\nC                    0.000000\nD                    0.000000\nE                    0.000000\nF                    0.000000\nG                    0.000000\ncost                 0.000000\ndtype: float64\n"
     ]
    }
   ],
   "source": [
    "print train_data.isnull().mean()"
   ]
  },
  {
   "cell_type": "markdown",
   "metadata": {},
   "source": [
    "Checking describe , mean and mode of null categories in training data"
   ]
  },
  {
   "cell_type": "code",
   "execution_count": 10,
   "metadata": {},
   "outputs": [
    {
     "name": "stdout",
     "output_type": "stream",
     "text": [
      "\n Training Data  car value Description\ncount     663718\nunique         9\ntop            e\nfreq      219251\nName: car_value, dtype: object\n\n Training Data car cavlue Set\n['g' 'e' 'c' 'd' 'f' nan 'h' 'i' 'b' 'a']\n\n Training Data car value Mode\ne\n"
     ]
    }
   ],
   "source": [
    "print \"\\n Training Data  car value Description\"\n",
    "\n",
    "print train_data[\"car_value\"].describe()\n",
    "\n",
    "print \"\\n Training Data car cavlue Set\"\n",
    "\n",
    "print train_data[\"car_value\"].unique()\n",
    "\n",
    "print \"\\n Training Data car value Mode\"\n",
    "\n",
    "print train_data[\"car_value\"].mode()[0]"
   ]
  },
  {
   "cell_type": "markdown",
   "metadata": {},
   "source": [
    "Replacing null values of Training Data - \"car_value\" with its mode"
   ]
  },
  {
   "cell_type": "code",
   "execution_count": 11,
   "metadata": {},
   "outputs": [],
   "source": [
    "train_data.loc[train_data[\"car_value\"].isnull(),\"car_value\"]= train_data[\"car_value\"].mode()[0]"
   ]
  },
  {
   "cell_type": "code",
   "execution_count": 12,
   "metadata": {},
   "outputs": [
    {
     "name": "stdout",
     "output_type": "stream",
     "text": [
      "0.0\n"
     ]
    }
   ],
   "source": [
    "print train_data[\"car_value\"].isnull().mean()"
   ]
  },
  {
   "cell_type": "markdown",
   "metadata": {},
   "source": [
    "Risk_factor description, mean , median, mode"
   ]
  },
  {
   "cell_type": "code",
   "execution_count": 13,
   "metadata": {},
   "outputs": [
    {
     "name": "stdout",
     "output_type": "stream",
     "text": [
      "\n risk factor description\ncount    424831.000000\nmean          2.563996\nstd           1.111584\nmin           1.000000\n25%           2.000000\n50%           3.000000\n75%           4.000000\nmax           4.000000\nName: risk_factor, dtype: float64\n\n risk factor mean\n2.56399603607\n\n risk factor mode\n0    3.0\ndtype: float64\n"
     ]
    }
   ],
   "source": [
    "print \"\\n risk factor description\"\n",
    "\n",
    "print train_data[\"risk_factor\"].describe()\n",
    "\n",
    "print \"\\n risk factor mean\"\n",
    "\n",
    "print train_data[\"risk_factor\"].mean()\n",
    "\n",
    "print \"\\n risk factor mode\"\n",
    "\n",
    "print train_data[\"risk_factor\"].mode()"
   ]
  },
  {
   "cell_type": "markdown",
   "metadata": {},
   "source": [
    "Imputing Null Values in risk factor with mean"
   ]
  },
  {
   "cell_type": "code",
   "execution_count": 14,
   "metadata": {},
   "outputs": [],
   "source": [
    "train_data.loc[train_data[\"risk_factor\"].isnull(),\"risk_factor\"] = train_data[\"risk_factor\"].mean()"
   ]
  },
  {
   "cell_type": "markdown",
   "metadata": {},
   "source": [
    "Risk Factor Null imputed with mean value"
   ]
  },
  {
   "cell_type": "code",
   "execution_count": 15,
   "metadata": {},
   "outputs": [
    {
     "name": "stdout",
     "output_type": "stream",
     "text": [
      "0.0\n"
     ]
    }
   ],
   "source": [
    "print train_data[\"risk_factor\"].isnull().mean()"
   ]
  },
  {
   "cell_type": "markdown",
   "metadata": {},
   "source": [
    "C Previous description, mean , median, mode"
   ]
  },
  {
   "cell_type": "code",
   "execution_count": 16,
   "metadata": {},
   "outputs": [
    {
     "name": "stdout",
     "output_type": "stream",
     "text": [
      "\n C previous description\ncount    646538.000000\nmean          2.444718\nstd           1.034596\nmin           1.000000\n25%           1.000000\n50%           3.000000\n75%           3.000000\nmax           4.000000\nName: C_previous, dtype: float64\n\n C_previous mode\n0    3.0\ndtype: float64\n C previous Set\n[  1.   3.   2.   4.  nan]\n"
     ]
    }
   ],
   "source": [
    "print \"\\n C previous description\"\n",
    "\n",
    "print train_data[\"C_previous\"].describe()\n",
    "\n",
    "#print \"\\n C_previous mean\" - Giving an error\n",
    "\n",
    "#print train_data[\"C_previous].mean()\n",
    "\n",
    "print \"\\n C_previous mode\"\n",
    "\n",
    "print train_data[\"C_previous\"].mode()\n",
    "\n",
    "print \" C previous Set\"\n",
    "\n",
    "print train_data[\"C_previous\"].unique()"
   ]
  },
  {
   "cell_type": "markdown",
   "metadata": {},
   "source": [
    "C PRevious imputing Null Values"
   ]
  },
  {
   "cell_type": "code",
   "execution_count": 17,
   "metadata": {},
   "outputs": [],
   "source": [
    "train_data.loc[train_data[\"C_previous\"].isnull(),\"C_previous\"] = train_data[\"C_previous\"].mode()[0]"
   ]
  },
  {
   "cell_type": "code",
   "execution_count": 18,
   "metadata": {},
   "outputs": [
    {
     "name": "stdout",
     "output_type": "stream",
     "text": [
      "0.0\n"
     ]
    }
   ],
   "source": [
    "print train_data[\"C_previous\"].isnull().mean()"
   ]
  },
  {
   "cell_type": "markdown",
   "metadata": {},
   "source": [
    "mean of c Previous - Worked this time"
   ]
  },
  {
   "cell_type": "code",
   "execution_count": 19,
   "metadata": {},
   "outputs": [
    {
     "name": "stdout",
     "output_type": "stream",
     "text": [
      "2.4603359043\n"
     ]
    }
   ],
   "source": [
    "print train_data[\"C_previous\"].mean()"
   ]
  },
  {
   "cell_type": "markdown",
   "metadata": {},
   "source": [
    "Duration Previous description and metrics"
   ]
  },
  {
   "cell_type": "code",
   "execution_count": 20,
   "metadata": {},
   "outputs": [
    {
     "name": "stdout",
     "output_type": "stream",
     "text": [
      "\n C duration_previous description\ncount    646538.000000\nmean          6.003774\nstd           4.680793\nmin           0.000000\n25%           2.000000\n50%           5.000000\n75%           9.000000\nmax          15.000000\nName: duration_previous, dtype: float64\n\n duration previous mean\n6.00377394677\n\n duration_previous mode\n0    1.0\ndtype: float64\n duration_previous Set\n[  2.  13.   4.   3.   9.   0.   1.   8.  14.  nan   5.  15.   6.   7.  11.\n  10.  12.]\n"
     ]
    }
   ],
   "source": [
    "print \"\\n C duration_previous description\"\n",
    "\n",
    "print train_data[\"duration_previous\"].describe()\n",
    "\n",
    "print \"\\n duration previous mean\"\n",
    "\n",
    "print train_data[\"duration_previous\"].mean()\n",
    "\n",
    "print \"\\n duration_previous mode\"\n",
    "\n",
    "print train_data[\"duration_previous\"].mode()\n",
    "\n",
    "print \" duration_previous Set\"\n",
    "\n",
    "print train_data[\"duration_previous\"].unique()"
   ]
  },
  {
   "cell_type": "markdown",
   "metadata": {},
   "source": [
    "Imputing the Null Values for duration_previous"
   ]
  },
  {
   "cell_type": "code",
   "execution_count": 21,
   "metadata": {},
   "outputs": [],
   "source": [
    "train_data.loc[train_data[\"duration_previous\"].isnull(),\"duration_previous\"] = train_data[\"duration_previous\"].mean()"
   ]
  },
  {
   "cell_type": "code",
   "execution_count": 22,
   "metadata": {},
   "outputs": [
    {
     "name": "stdout",
     "output_type": "stream",
     "text": [
      "0.0\n"
     ]
    }
   ],
   "source": [
    "print train_data[\"duration_previous\"].isnull().mean()"
   ]
  },
  {
   "cell_type": "markdown",
   "metadata": {},
   "source": [
    "Checking all the categories again for Null Values"
   ]
  },
  {
   "cell_type": "code",
   "execution_count": 23,
   "metadata": {},
   "outputs": [
    {
     "name": "stdout",
     "output_type": "stream",
     "text": [
      "customer_ID          0.0\nshopping_pt          0.0\nrecord_type          0.0\nday                  0.0\ntime                 0.0\nstate                0.0\nlocation             0.0\ngroup_size           0.0\nhomeowner            0.0\ncar_age              0.0\ncar_value            0.0\nrisk_factor          0.0\nage_oldest           0.0\nage_youngest         0.0\nmarried_couple       0.0\nC_previous           0.0\nduration_previous    0.0\nA                    0.0\nB                    0.0\nC                    0.0\nD                    0.0\nE                    0.0\nF                    0.0\nG                    0.0\ncost                 0.0\ndtype: float64\n"
     ]
    }
   ],
   "source": [
    "print train_data.isnull().mean()"
   ]
  },
  {
   "cell_type": "markdown",
   "metadata": {},
   "source": [
    "Explortary Data Analysis"
   ]
  },
  {
   "cell_type": "code",
   "execution_count": 24,
   "metadata": {},
   "outputs": [
    {
     "name": "stdout",
     "output_type": "stream",
     "text": [
      "Populating the interactive namespace from numpy and matplotlib\n"
     ]
    }
   ],
   "source": [
    "%pylab inline"
   ]
  },
  {
   "cell_type": "code",
   "execution_count": 25,
   "metadata": {},
   "outputs": [
    {
     "data": {
      "text/plain": [
       "<matplotlib.axes._subplots.AxesSubplot at 0x7f0044058990>"
      ]
     },
     "execution_count": 25,
     "metadata": {},
     "output_type": "execute_result"
    },
    {
     "data": {
      "image/png": "[encoded data removed]",
      "text/plain": [
       "<matplotlib.figure.Figure at 0x7f001112e350>"
      ]
     },
     "metadata": {},
     "output_type": "display_data"
    }
   ],
   "source": [
    "train_data[[\"cost\"]].plot(kind = \"hist\")"
   ]
  },
  {
   "cell_type": "markdown",
   "metadata": {},
   "source": [
    "Cost VS Car Age"
   ]
  },
  {
   "cell_type": "code",
   "execution_count": 26,
   "metadata": {},
   "outputs": [
    {
     "name": "stdout",
     "output_type": "stream",
     "text": [
      "\n Cost Set\n[633 630 638 634 755 730 731 618 616 607 605 602 629 620 627 626 604 585\n 603 614 590 584 591 589 597 681 685 705 659 615 622 648 601 600 556 572\n 578 575 676 598 689 609 696 692 703 657 654 665 594 610 606 550 551 583\n 613 608 612 568 574 577 765 642 652 694 671 651 641 645 643 649 646 702\n 563 566 693 701 596 656 559 562 670 625 599 617 623 655 635 621 713 723\n 719 721 582 658 586 639 637 650 706 729 735 666 611 580 593 587 592 588\n 624 662 704 691 767 699 667 542 631 734 728 725 644 836 653 525 545 549\n 632 733 683 738 557 640 687 674 690 684 682 761 530 688 558 661 564 571\n 660 686 680 535 536 531 538 647 569 567 573 668 628 754 737 663 708 636\n 619 581 695 726 714 707 678 720 718 712 766 760 770 740 727 669 709 757\n 672 677 747 743 745 742 673 758 769 768 717 722 555 700 579 716 710 697\n 698 675 595 565 570 744 748 576 724 664 679 798 753 553 732 541 533 539\n 544 505 506 547 711 554 528 548 560 518 524 546 715 779 756 736 529 784\n 792 785 825 521 789 561 540 543 752 788 739 741 746 552 512 510 527 763\n 749 776 764 774 517 523 519 534 537 516 526 809 515 532 750 495 508 513\n 801 787 504 839 815 507 751 777 522 824 773 771 782 786 860 520 783 509\n 502 759 762 780 490 483 497 841 842 821 772 805 817 859 794 793 849 474\n 503 482 484 791 796 456 493 511 476 799 800 778 795 499 498 797 514 781\n 808 812 298 311 467 790 486 496 834 837 828 500 775 475 448 455 324 323\n 327 434 447 492 833 807 494 895 477 378 397 411 810 882 840 831 488 413\n 412 481 391 379 393 820 491 369 818 846 826 501 457 838 822 911 922 829\n 428 404 357 854 802 466 804 473 816 835 872 855 844 806 470 811 485 480\n 489 304 314 317 295 873 814 819 813 863 845 472 425 433 313 296 321 465\n 471 853 823 407 408 469 478 827 850 862 803 891 289 293 302 297 487 326\n 329 336 479 409 843 830 865 367 288 917 417 459 419 429 307 322 848 349\n 360 368 832 468 449 372 383 385 389 291 299 301 900 851 402 260 263 847\n 375 370 361 352 406 864 888 912 272 287 290 858 418 852 356 358 280 274\n 303 415 398 464 869 384 421 424 400 436 441 426 430 346 881 380 390 285\n 294 454 376 857 450 338 344 350 387 353 332 325 438 328 868 866 264 362\n 345 437 308 341 354 363 431 427 416]\n\n Car Age Set\n[ 2 10 11  3  5  6  7 15 17  1 12  8 26  4 14  9 13 20 19 18 22 16  0 28 24\n 21 42 23 31 27 45 47 25 37 38 33 41 30 29 59 58 32 43 34 36 46 57 53 40 39\n 50 35 44 61 74 48 54 51 49 64 75 62 55 85 52 60 65]\n\n\n               cost\ncar_age            \n0        652.914901\n1        653.294976\n2        645.976939\n3        649.812681\n4        648.646776\n"
     ]
    }
   ],
   "source": [
    "print \"\\n Cost Set\"\n",
    "\n",
    "print train_data[\"cost\"].unique()\n",
    "\n",
    "print \"\\n Car Age Set\"\n",
    "\n",
    "print train_data[\"car_age\"].unique()\n",
    "\n",
    "print \"\\n\"\n",
    "\n",
    "cost_age_df =  train_data[[\"cost\", \"car_age\"]].groupby(\"car_age\").mean()\n",
    "\n",
    "print cost_age_df.head()"
   ]
  },
  {
   "cell_type": "code",
   "execution_count": 27,
   "metadata": {},
   "outputs": [
    {
     "data": {
      "text/plain": [
       "<matplotlib.text.Text at 0x7f0011fec6d0>"
      ]
     },
     "execution_count": 27,
     "metadata": {},
     "output_type": "execute_result"
    },
    {
     "data": {
      "image/png": "[encoded data removed]",
      "text/plain": [
       "<matplotlib.figure.Figure at 0x7f001112e290>"
      ]
     },
     "metadata": {},
     "output_type": "display_data"
    }
   ],
   "source": [
    "%matplotlib inline\n",
    "\n",
    "pylab.plot(cost_age_df)\n",
    "\n",
    "pylab.xlabel(\"Car Age\")\n",
    "\n",
    "pylab.ylabel(\"Cost\")\n",
    "\n",
    "pylab.title(\"Cost Vs Car Age\")"
   ]
  },
  {
   "cell_type": "markdown",
   "metadata": {},
   "source": [
    "Cost correlations"
   ]
  },
  {
   "cell_type": "code",
   "execution_count": 28,
   "metadata": {},
   "outputs": [
    {
     "name": "stdout",
     "output_type": "stream",
     "text": [
      "customer_ID         -0.002250\nshopping_pt          0.043419\nrecord_type         -0.011826\nday                  0.010793\nlocation             0.002413\ngroup_size          -0.024009\nhomeowner           -0.213846\ncar_age             -0.281002\nrisk_factor          0.103675\nage_oldest          -0.210225\nage_youngest        -0.238497\nmarried_couple      -0.075193\nC_previous          -0.077188\nduration_previous   -0.161597\nA                    0.325922\nB                    0.118573\nC                   -0.033931\nD                    0.002963\nE                    0.259183\nF                    0.141707\nG                   -0.011274\ncost                 1.000000\nName: cost, dtype: float64\n"
     ]
    }
   ],
   "source": [
    "print train_data.corr()[\"cost\"]"
   ]
  },
  {
   "cell_type": "code",
   "execution_count": 29,
   "metadata": {},
   "outputs": [
    {
     "data": {
      "text/plain": [
       "<matplotlib.axes._subplots.AxesSubplot at 0x7f0011fc5590>"
      ]
     },
     "execution_count": 29,
     "metadata": {},
     "output_type": "execute_result"
    },
    {
     "data": {
      "image/png": "[encoded data removed]",
      "text/plain": [
       "<matplotlib.figure.Figure at 0x7f0011f75c50>"
      ]
     },
     "metadata": {},
     "output_type": "display_data"
    }
   ],
   "source": [
    "train_data.corr()[\"cost\"].plot.bar()"
   ]
  },
  {
   "cell_type": "markdown",
   "metadata": {},
   "source": [
    "Cost VS Risk Factor"
   ]
  },
  {
   "cell_type": "code",
   "execution_count": 30,
   "metadata": {},
   "outputs": [
    {
     "data": {
      "text/plain": [
       "<matplotlib.text.Text at 0x7f0011dc6ad0>"
      ]
     },
     "execution_count": 30,
     "metadata": {},
     "output_type": "execute_result"
    },
    {
     "data": {
      "image/png": "[encoded data removed]",
      "text/plain": [
       "<matplotlib.figure.Figure at 0x7f0023369e90>"
      ]
     },
     "metadata": {},
     "output_type": "display_data"
    }
   ],
   "source": [
    "pylab.plot(train_data[[\"cost\",\"risk_factor\"]].groupby(\"risk_factor\").mean())\n",
    "\n",
    "pylab.xlabel(\"Risk Factor\")\n",
    "\n",
    "pylab.ylabel(\"Cost\")\n",
    "\n",
    "pylab.title(\" Cost VS Risk Factor\")"
   ]
  },
  {
   "cell_type": "markdown",
   "metadata": {},
   "source": [
    "Package E correlation "
   ]
  },
  {
   "cell_type": "markdown",
   "metadata": {},
   "source": [
    "1) Cost goes down as car gets old\n",
    "\n",
    "2) Cost goes up with higher risk factor\n",
    "\n",
    "3) Option A and E increase with cost and risk factor , lets find out."
   ]
  },
  {
   "cell_type": "code",
   "execution_count": 31,
   "metadata": {},
   "outputs": [
    {
     "name": "stdout",
     "output_type": "stream",
     "text": [
      "customer_ID         -0.002306\nshopping_pt          0.052803\nrecord_type          0.012162\nday                 -0.001005\nlocation            -0.003494\ngroup_size           0.017806\nhomeowner            0.048471\ncar_age             -0.436740\nrisk_factor         -0.046156\nage_oldest           0.003914\nage_youngest         0.005199\nmarried_couple       0.023021\nC_previous           0.115207\nduration_previous    0.029891\nA                    1.000000\nB                    0.158040\nC                    0.190519\nD                    0.189351\nE                    0.324618\nF                    0.531186\nG                    0.045335\ncost                 0.325922\nName: A, dtype: float64\n"
     ]
    }
   ],
   "source": [
    "print train_data.corr()[\"A\"]"
   ]
  },
  {
   "cell_type": "code",
   "execution_count": 32,
   "metadata": {},
   "outputs": [
    {
     "data": {
      "text/plain": [
       "<matplotlib.axes._subplots.AxesSubplot at 0x7f0011da8310>"
      ]
     },
     "execution_count": 32,
     "metadata": {},
     "output_type": "execute_result"
    },
    {
     "data": {
      "image/png": "[encoded data removed]",
      "text/plain": [
       "<matplotlib.figure.Figure at 0x7f0011da8250>"
      ]
     },
     "metadata": {},
     "output_type": "display_data"
    }
   ],
   "source": [
    "train_data.corr()[\"A\"].plot.bar()"
   ]
  },
  {
   "cell_type": "markdown",
   "metadata": {},
   "source": [
    "Coverage A has a strong negative correlation with car age , and small negative correlatoin with risk factor, its looks like from the data it has a positive relation with home owners and people who stay longer with thier previous instance"
   ]
  },
  {
   "cell_type": "code",
   "execution_count": 33,
   "metadata": {},
   "outputs": [
    {
     "data": {
      "text/plain": [
       "<matplotlib.text.Text at 0x7f001154dcd0>"
      ]
     },
     "execution_count": 33,
     "metadata": {},
     "output_type": "execute_result"
    },
    {
     "data": {
      "image/png": "[encoded data removed]",
      "text/plain": [
       "<matplotlib.figure.Figure at 0x7f0011e16d50>"
      ]
     },
     "metadata": {},
     "output_type": "display_data"
    }
   ],
   "source": [
    "pylab.plot(train_data[[\"A\",\"car_age\"]].groupby(\"car_age\").mean())\n",
    "\n",
    "pylab.xlabel(\"Car Age\")\n",
    "\n",
    "pylab.ylabel(\"Coverage A\")\n",
    "\n",
    "pylab.title(\" Coverage A VS. Car Age\")"
   ]
  },
  {
   "cell_type": "markdown",
   "metadata": {},
   "source": [
    "Coverage is favored for new cars"
   ]
  },
  {
   "cell_type": "markdown",
   "metadata": {},
   "source": [
    "C PRevious VS. Coverage A"
   ]
  },
  {
   "cell_type": "code",
   "execution_count": 34,
   "metadata": {},
   "outputs": [],
   "source": [
    "#train_data[[\"A\",\"C_previous\"]].groupby(\"C_previous\").plot.bar()"
   ]
  },
  {
   "cell_type": "code",
   "execution_count": 35,
   "metadata": {},
   "outputs": [],
   "source": [
    "#print train_data[[\"A\",\"C_previous\"]].groupby(\"C_previous\")"
   ]
  },
  {
   "cell_type": "code",
   "execution_count": 36,
   "metadata": {},
   "outputs": [
    {
     "name": "stdout",
     "output_type": "stream",
     "text": [
      "[ 1.  3.  2.  4.]\n"
     ]
    }
   ],
   "source": [
    "print train_data[\"C_previous\"].unique()"
   ]
  },
  {
   "cell_type": "markdown",
   "metadata": {},
   "source": [
    "Risk Factor VS Car Age"
   ]
  },
  {
   "cell_type": "code",
   "execution_count": 37,
   "metadata": {},
   "outputs": [
    {
     "data": {
      "text/plain": [
       "<matplotlib.text.Text at 0x7f0011484b50>"
      ]
     },
     "execution_count": 37,
     "metadata": {},
     "output_type": "execute_result"
    },
    {
     "data": {
      "image/png": "[encoded data removed]",
      "text/plain": [
       "<matplotlib.figure.Figure at 0x7f0011dfc250>"
      ]
     },
     "metadata": {},
     "output_type": "display_data"
    }
   ],
   "source": [
    "pylab.plot(train_data[[\"risk_factor\",\"car_age\"]].groupby(\"car_age\").mean())\n",
    "\n",
    "pylab.xlabel(\"Car Age\")\n",
    "\n",
    "pylab.ylabel(\"Risk Factor\")\n",
    "\n",
    "pylab.title(\" Risk Factor VS. Car Age\")"
   ]
  },
  {
   "cell_type": "markdown",
   "metadata": {},
   "source": [
    "Creating a SQLite DB to split and store files"
   ]
  },
  {
   "cell_type": "markdown",
   "metadata": {},
   "source": [
    "Developing Correlations between different combinations of Categories VS. buyer history"
   ]
  },
  {
   "cell_type": "code",
   "execution_count": 38,
   "metadata": {},
   "outputs": [],
   "source": [
    "#conn = sqlite3.connect(\"AllState_Kaggle.sqlite\")"
   ]
  },
  {
   "cell_type": "code",
   "execution_count": 39,
   "metadata": {},
   "outputs": [],
   "source": [
    "#cur = conn.cursor()"
   ]
  },
  {
   "cell_type": "markdown",
   "metadata": {},
   "source": [
    "Dropping  and Creating Table Customers"
   ]
  },
  {
   "cell_type": "code",
   "execution_count": 40,
   "metadata": {},
   "outputs": [
    {
     "name": "stdout",
     "output_type": "stream",
     "text": [
      "<sqlite3.Connection object at 0x7f001141d688>\n"
     ]
    },
    {
     "name": "stdout",
     "output_type": "stream",
     "text": [
      "table created\n[(u'sqlite_sequence',), (u'Customer_ID',)]\n"
     ]
    }
   ],
   "source": [
    "def create_customerID_db():\n",
    "    \n",
    "    conn = sqlite3.connect(\"/home/azafar/Projects/Allstate Purchase Prediction Challenge/Data/AllState_KaggleDB.sqlite\")\n",
    "    \n",
    "    cur = conn.cursor()\n",
    "    \n",
    "    print conn\n",
    "    \n",
    "    try:\n",
    "        cur.executescript('''\n",
    "        \n",
    "                    DROP TABLE IF EXISTS Customer_ID;\n",
    "                    \n",
    "                    CREATE TABLE Customer_ID (\n",
    "            id  INTEGER NOT NULL PRIMARY KEY AUTOINCREMENT UNIQUE,\n",
    "            customer_ID    INTEGER \n",
    "            );\n",
    "                    \n",
    "        ''')\n",
    "        \n",
    "        print \"table created\"\n",
    "        \n",
    "        cur.execute(\"\"\" select name from sqlite_master where type = 'table' \"\"\")\n",
    "        \n",
    "        tables = cur.fetchall()\n",
    "        \n",
    "        print tables\n",
    "    \n",
    "    except:\n",
    "        print \"continue\"\n",
    "    \n",
    "    conn.close()\n",
    "\n",
    "create_customerID_table_db = create_customerID_db()"
   ]
  },
  {
   "cell_type": "markdown",
   "metadata": {},
   "source": [
    "Number of Unique Customers in the database"
   ]
  },
  {
   "cell_type": "code",
   "execution_count": 41,
   "metadata": {},
   "outputs": [
    {
     "name": "stdout",
     "output_type": "stream",
     "text": [
      "97009\n"
     ]
    }
   ],
   "source": [
    "print train_data[\"customer_ID\"].unique().shape[0]"
   ]
  },
  {
   "cell_type": "markdown",
   "metadata": {},
   "source": [
    "Storing the unique customer_ID in the SQLITE data base"
   ]
  },
  {
   "cell_type": "code",
   "execution_count": 46,
   "metadata": {},
   "outputs": [
    {
     "data": {
      "text/plain": [
       "'\\ndef add_values_table_db(add_in_element):\\n    conn = sqlite3.connect(\"/home/azafar/Projects/Allstate Purchase Prediction Challenge/Data/AllState_KaggleDB.sqlite\")\\n    \\n    cur = conn.cursor()\\n    \\n    cur.execute(\\'\\'\\'INSERT OR IGNORE INTO customer_ID (customer_ID) VALUES (?)\\'\\'\\', (add_in_element,))\\n    \\n    customer_id = cur.fetchone()[0]\\n    \\n    conn.commit()\\n    \\n    conn.close()\\n    \\n    return customer_id\\n'"
      ]
     },
     "execution_count": 46,
     "metadata": {},
     "output_type": "execute_result"
    }
   ],
   "source": [
    "\"\"\"\n",
    "def add_values_table_db(add_in_element):\n",
    "    conn = sqlite3.connect(\"/home/azafar/Projects/Allstate Purchase Prediction Challenge/Data/AllState_KaggleDB.sqlite\")\n",
    "    \n",
    "    cur = conn.cursor()\n",
    "    \n",
    "    cur.execute('''INSERT OR IGNORE INTO customer_ID (customer_ID) VALUES (?)''', (add_in_element,))\n",
    "    \n",
    "    customer_id = cur.fetchone()[0]\n",
    "    \n",
    "    conn.commit()\n",
    "    \n",
    "    conn.close()\n",
    "    \n",
    "    return customer_id\n",
    "\"\"\""
   ]
  },
  {
   "cell_type": "markdown",
   "metadata": {},
   "source": [
    "Storing customer IDs now"
   ]
  },
  {
   "cell_type": "code",
   "execution_count": 43,
   "metadata": {},
   "outputs": [
    {
     "name": "stdout",
     "output_type": "stream",
     "text": [
      "10000000\n10000005\n10000007\n10000013\n10000014\n"
     ]
    }
   ],
   "source": [
    "# testing ---\n",
    "\n",
    "count = 0\n",
    "\n",
    "for cust_id1 in (train_data[\"customer_ID\"].unique().tolist()):\n",
    "    print cust_id1\n",
    "    count +=1\n",
    "    if count ==5:\n",
    "        break"
   ]
  },
  {
   "cell_type": "code",
   "execution_count": 44,
   "metadata": {},
   "outputs": [],
   "source": [
    "# testing array to list and going back up one cell\n",
    "\n",
    "test = train_data[\"customer_ID\"].unique().tolist()"
   ]
  },
  {
   "cell_type": "markdown",
   "metadata": {},
   "source": [
    "Saving the Customer IDs now after testing the iteration."
   ]
  },
  {
   "cell_type": "code",
   "execution_count": 47,
   "metadata": {},
   "outputs": [
    {
     "data": {
      "text/plain": [
       "'\\n\\nfor cust_id in (train_data[\"customer_ID\"].unique().tolist()):\\n    \\n    if (type(cust_id) is None): continue\\n    \\n    add_values_table_db(cust_id)\\nprint \"done\"\\n\\n'"
      ]
     },
     "execution_count": 47,
     "metadata": {},
     "output_type": "execute_result"
    }
   ],
   "source": [
    "\"\"\"\n",
    "\n",
    "for cust_id in (train_data[\"customer_ID\"].unique().tolist()):\n",
    "    \n",
    "    if (type(cust_id) is None): continue\n",
    "    \n",
    "    add_values_table_db(cust_id)\n",
    "print \"done\"\n",
    "\n",
    "\"\"\""
   ]
  },
  {
   "cell_type": "code",
   "execution_count": 48,
   "metadata": {},
   "outputs": [],
   "source": [
    "#print customer_id"
   ]
  },
  {
   "cell_type": "code",
   "execution_count": 49,
   "metadata": {},
   "outputs": [],
   "source": [
    "#len(cust_id)\n",
    "#print \"test\""
   ]
  },
  {
   "cell_type": "code",
   "execution_count": 51,
   "metadata": {},
   "outputs": [],
   "source": [
    "#print cust_id"
   ]
  },
  {
   "cell_type": "code",
   "execution_count": 52,
   "metadata": {},
   "outputs": [],
   "source": [
    "def add_values_table_db():\n",
    "    conn = sqlite3.connect(\"/home/azafar/Projects/Allstate Purchase Prediction Challenge/Data/AllState_KaggleDB.sqlite\")\n",
    "    \n",
    "    cur = conn.cursor()\n",
    "    \n",
    "    for cust_id in (train_data[\"customer_ID\"].unique().tolist()):\n",
    "    \n",
    "        if (cust_id is None): continue\n",
    "        \n",
    "        cur.execute('''INSERT OR IGNORE INTO Customer_ID (Customer_ID) VALUES (?)''', (cust_id,))\n",
    "            \n",
    "        customer_id = cur.fetchall()\n",
    "        \n",
    "        \n",
    "        conn.commit()\n",
    "        \n",
    "    conn.close()\n",
    "    \n",
    "    return customer_id"
   ]
  },
  {
   "cell_type": "code",
   "execution_count": 137,
   "metadata": {},
   "outputs": [],
   "source": [
    "add_customer_ids = add_values_table_db()\n",
    "\n",
    "conn = sqlite3.connect(\"/home/azafar/Projects/Allstate Purchase Prediction Challenge/Data/AllState_KaggleDB.sqlite\")\n",
    "    \n",
    "cur = conn.cursor()\n",
    "\n",
    "cur.execute(' SELECT customer_ID FROM Customer_ID '')\n",
    "\n",
    "run = cur.fetchall()\n",
    "\n",
    "conn.commit()\n",
    "\n",
    "conn.close()\n",
    "\n",
    "print run"
   ]
  },
  {
   "cell_type": "code",
   "execution_count": 126,
   "metadata": {},
   "outputs": [],
   "source": [
    "print type(run)\n",
    "\n",
    "print run\n",
    "\n",
    "run == None"
   ]
  },
  {
   "cell_type": "code",
   "execution_count": null,
   "metadata": {},
   "outputs": [],
   "source": [
    ""
   ]
  },
  {
   "cell_type": "code",
   "execution_count": null,
   "metadata": {},
   "outputs": [],
   "source": [
    ""
   ]
  },
  {
   "cell_type": "code",
   "execution_count": null,
   "metadata": {},
   "outputs": [],
   "source": [
    ""
   ]
  },
  {
   "cell_type": "code",
   "execution_count": null,
   "outputs": [],
   "source": [
    ""
   ]
  }
 ],
 "metadata": {
  "kernelspec": {
   "display_name": "Python 2",
   "language": "python",
   "name": "python2"
  },
  "language_info": {
   "codemirror_mode": {
    "name": "ipython",
    "version": 2.0
   },
   "file_extension": ".py",
   "mimetype": "text/x-python",
   "name": "python",
   "nbconvert_exporter": "python",
   "pygments_lexer": "ipython2",
   "version": "2.7.6"
  }
 },
 "nbformat": 4,
 "nbformat_minor": 0
}